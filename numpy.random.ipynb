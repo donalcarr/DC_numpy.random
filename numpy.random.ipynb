{
 "cells": [
  {
   "cell_type": "markdown",
   "metadata": {},
   "source": [
    "# Assignment 2018 - Investigation of the numpy.random package "
   ]
  },
  {
   "cell_type": "markdown",
   "metadata": {},
   "source": [
    "## 1. Explain the overall purpose of the package "
   ]
  },
  {
   "cell_type": "code",
   "execution_count": 1,
   "metadata": {},
   "outputs": [
    {
     "data": {
      "image/jpeg": "[encoded data removed]",
      "text/plain": [
       "<IPython.core.display.Image object>"
      ]
     },
     "execution_count": 1,
     "metadata": {},
     "output_type": "execute_result"
    }
   ],
   "source": [
    "# uses ipython package to embed the image in the notebook so it is visible in GitHub\n",
    "from IPython.display import Image\n",
    "Image(filename=\"Numpy Image.jpeg\")"
   ]
  },
  {
   "cell_type": "markdown",
   "metadata": {},
   "source": [
    "Numpy is a package used for scientific computing within python and the subset package **numpy.random** is used for generating random numbers."
   ]
  },
  {
   "cell_type": "markdown",
   "metadata": {},
   "source": [
    "The functions within the package can be divided into three groups: **Simple Random Data, Permutations, and Distributions.**[[1]](#[1])"
   ]
  },
  {
   "cell_type": "markdown",
   "metadata": {},
   "source": [
    "Simple random data funtions such as randint can be used for generating an array of random numbers, \n",
    "then permutations functions can be used to shuffle the array for more randomness [[2]](#[2])\n",
    "and then this array could be used in one the probability distribution functions as an example of how the functions groups can\n",
    "be used together. "
   ]
  },
  {
   "cell_type": "markdown",
   "metadata": {},
   "source": [
    "The random numbers generated by numpy.random package are not truly random, rather are **pseudorandom** meaning an algorithm that starts with an inital value (seed) is used for generating the randomness of the numbers. Although not truly random, the degree of randomness is enough for most uses of random numbers. "
   ]
  },
  {
   "cell_type": "markdown",
   "metadata": {},
   "source": [
    "The probability distribution functions contained in the numpy.random package can be divided into the following categories:\n",
    "     **Discrete probability functions**, and\n",
    "     **Probability density functions**"
   ]
  },
  {
   "cell_type": "markdown",
   "metadata": {},
   "source": [
    "**Discrete probability functions** such as **Geometric** or **Binomial**, take on a discrete number of values i.e. \n",
    "there is no inbetween value e.g. tossing a coin lands on heads or tails, or a clinical trial is either a success or\n",
    "failure. These events cannot produce an inbetween result. As these events are binary, the numpy.random distribution functions\n",
    "can model the probability of the first instance of an event or the likelyhood of an event occurring. \n",
    "\n"
   ]
  },
  {
   "cell_type": "markdown",
   "metadata": {},
   "source": [
    "**Probability Density functions** such as **Normal** or **Triangual** distributions can take on an infinite number of values usually within a given range. The most well known distribution is the normal distribution where most of the values centre \n",
    "around the mean and fall within defined intervals or standard deviations from the mean.[[3]](#[3])"
   ]
  },
  {
   "cell_type": "markdown",
   "metadata": {},
   "source": [
    "When using the numpy.random package distribution functions it is important that the user understands their data and whether\n",
    "it is a correct fit for the chosen probability function. "
   ]
  },
  {
   "cell_type": "markdown",
   "metadata": {},
   "source": [
    "The generation of random numbers is an important facet of many real world scenarios such as video games to ensure the user\n",
    "encounters unpredicability when playing the game. In online Roulette the winning number is generated using a **RNG** \n",
    "random number generator each time you spin the wheel. In clinical trials, an organisation may want to generate random sample\n",
    "to understand the when the first trial success is possible. [[4]](#[4])\n"
   ]
  },
  {
   "cell_type": "markdown",
   "metadata": {},
   "source": [
    " numpy.random The default when you don’t seed the generator \n",
    "is to use your current system time or a “randomness source” from your OS if one is available. --https://realpython.com/python-random/ "
   ]
  },
  {
   "cell_type": "markdown",
   "metadata": {},
   "source": [
    "To use the numpy.random package it needs to be imported into your chosen python interpreter environment if not already available\n",
    "and called as follows:"
   ]
  },
  {
   "cell_type": "code",
   "execution_count": 2,
   "metadata": {},
   "outputs": [],
   "source": [
    "# import numpy package and np for shorthand reference\n",
    "import numpy as np"
   ]
  },
  {
   "cell_type": "markdown",
   "metadata": {},
   "source": [
    "## 2. Explain the use of the Simple random data and Permutations functions"
   ]
  },
  {
   "cell_type": "markdown",
   "metadata": {},
   "source": [
    "### Simple Random Data  "
   ]
  },
  {
   "cell_type": "markdown",
   "metadata": {},
   "source": [
    "Simple Random data is a group of sub funtions within numpy.random used for generation random numbers. Functions such as rand are used to generate random numbers (an array) over the uniform distribution meaning each value has an equal probability of occurring.\n",
    "\n",
    "The following three functions are examples of Simple random data functions. [[1]](#[1])"
   ]
  },
  {
   "cell_type": "markdown",
   "metadata": {},
   "source": [
    "#### numpy.random.rand "
   ]
  },
  {
   "cell_type": "code",
   "execution_count": 3,
   "metadata": {},
   "outputs": [
    {
     "data": {
      "text/plain": [
       "array([0.15917327, 0.36151227, 0.30717587, ..., 0.51201549, 0.68322176,\n",
       "       0.59903188])"
      ]
     },
     "execution_count": 3,
     "metadata": {},
     "output_type": "execute_result"
    }
   ],
   "source": [
    "# call random.rand function\n",
    "x = np.random.rand(5000)\n",
    "x"
   ]
  },
  {
   "cell_type": "code",
   "execution_count": 49,
   "metadata": {},
   "outputs": [
    {
     "data": {
      "image/png": "[encoded data removed]",
      "text/plain": [
       "<Figure size 432x288 with 1 Axes>"
      ]
     },
     "metadata": {},
     "output_type": "display_data"
    }
   ],
   "source": [
    "# import matplotlib package for visualizations\n",
    "import matplotlib.pyplot as plt\n",
    "plt.hist(x,color = 'xkcd:azure', rwidth = 0.95 )\n",
    "plt.show()"
   ]
  },
  {
   "cell_type": "code",
   "execution_count": 5,
   "metadata": {},
   "outputs": [
    {
     "data": {
      "text/plain": [
       "array([[0.52437972, 0.89911645, 0.4551994 , 0.778962  , 0.38099647,\n",
       "        0.03970027, 0.75545095, 0.41423192, 0.96038573, 0.41709517]])"
      ]
     },
     "execution_count": 5,
     "metadata": {},
     "output_type": "execute_result"
    }
   ],
   "source": [
    "# create variable x and pass array shape to the rand function i.e 1 array with 1 column 1 row\n",
    "x = np.random.rand(1,10)\n",
    "x"
   ]
  },
  {
   "cell_type": "code",
   "execution_count": 6,
   "metadata": {},
   "outputs": [
    {
     "data": {
      "text/plain": [
       "array([[2.04875943, 2.79823289, 1.9103988 , 2.55792401, 1.76199295,\n",
       "        1.07940055, 2.5109019 , 1.82846384, 2.92077147, 1.83419034]])"
      ]
     },
     "execution_count": 6,
     "metadata": {},
     "output_type": "execute_result"
    }
   ],
   "source": [
    "# create variable y to create the y axis for the chart - formula will create the linear relationship\n",
    "y = 2 * x + 1\n",
    "y"
   ]
  },
  {
   "cell_type": "code",
   "execution_count": 7,
   "metadata": {},
   "outputs": [
    {
     "data": {
      "image/png": "[encoded data removed]",
      "text/plain": [
       "<Figure size 432x288 with 1 Axes>"
      ]
     },
     "metadata": {},
     "output_type": "display_data"
    }
   ],
   "source": [
    "# plot x and y variable above with red markers\n",
    "plt.plot(x,y,'ro')\n",
    "plt.show()"
   ]
  },
  {
   "cell_type": "markdown",
   "metadata": {},
   "source": [
    "#### numpy.random.randint "
   ]
  },
  {
   "cell_type": "markdown",
   "metadata": {},
   "source": [
    "randint returns random integers from low to high and takes four parameters ((low, high=None, size=None, dtype='l'))"
   ]
  },
  {
   "cell_type": "code",
   "execution_count": 8,
   "metadata": {},
   "outputs": [
    {
     "data": {
      "text/plain": [
       "array([2, 2, 3, 2, 2])"
      ]
     },
     "execution_count": 8,
     "metadata": {},
     "output_type": "execute_result"
    }
   ],
   "source": [
    "# call randint function with explantion after code output\n",
    "np.random.randint(2,4,5,'int')"
   ]
  },
  {
   "cell_type": "markdown",
   "metadata": {},
   "source": [
    "The above code takes the lowest integer 2 and highest integer 4 to be drawn from the distribution and the size/output array is 5 and datatype equals integer "
   ]
  },
  {
   "cell_type": "markdown",
   "metadata": {},
   "source": [
    "The high argument can be left out in which case the lowest integer that can be drawn will defualt to zero"
   ]
  },
  {
   "cell_type": "code",
   "execution_count": 9,
   "metadata": {},
   "outputs": [
    {
     "data": {
      "text/plain": [
       "array([0, 0, 1, 1, 1])"
      ]
     },
     "execution_count": 9,
     "metadata": {},
     "output_type": "execute_result"
    }
   ],
   "source": [
    "# example to show output when high argument is left out\n",
    "np.random.randint(2,size=5)"
   ]
  },
  {
   "cell_type": "markdown",
   "metadata": {},
   "source": [
    "#### numpy.random.choice "
   ]
  },
  {
   "cell_type": "markdown",
   "metadata": {},
   "source": [
    "choice generates a random sample of values and takes four parameters (a, size=None, replace=True, p=None). It be used to generate values over uniform and non-uniform distributions"
   ]
  },
  {
   "cell_type": "code",
   "execution_count": 40,
   "metadata": {},
   "outputs": [
    {
     "data": {
      "text/plain": [
       "array([2, 0])"
      ]
     },
     "execution_count": 40,
     "metadata": {},
     "output_type": "execute_result"
    }
   ],
   "source": [
    "# call random.choice and pass in arguments\n",
    "np.random.choice(5,2,replace =False,p=[0.1,0.05,0.7,0.1,0.05])"
   ]
  },
  {
   "cell_type": "markdown",
   "metadata": {},
   "source": [
    "In the above code a is the number of elements, 2 is the size of the array to be returned, \n",
    "and p is the probability of each element being randomly chosen.\n",
    "\n",
    "You would expect 2 to be chosen most often as the probability is 0.7 which is much higher than the other elements.\n",
    "\n",
    "As the probability is defined it is a non-uniform distribution i.e. each element does not have the same chance of being chosen"
   ]
  },
  {
   "cell_type": "code",
   "execution_count": 11,
   "metadata": {},
   "outputs": [
    {
     "data": {
      "text/plain": [
       "array(['John'], dtype='<U4')"
      ]
     },
     "execution_count": 11,
     "metadata": {},
     "output_type": "execute_result"
    }
   ],
   "source": [
    "# create list of non-integers and use choice to choose random sample, in this case 1 sample \n",
    "Name = ['John', 'Paul','Luke','Colm']\n",
    "np.random.choice(Name,1)"
   ]
  },
  {
   "cell_type": "markdown",
   "metadata": {},
   "source": [
    "The arguments passed do not have to be integers but can be other data types, as above. "
   ]
  },
  {
   "cell_type": "markdown",
   "metadata": {},
   "source": [
    "### Permutations"
   ]
  },
  {
   "cell_type": "markdown",
   "metadata": {},
   "source": [
    "The numpy shuffle and permutations functions are used to 'shuffle' arrays or integers similar to shuffling a deck of cards for randomness.\n",
    "[[2]](#[2])"
   ]
  },
  {
   "cell_type": "markdown",
   "metadata": {},
   "source": [
    "\n",
    "#### Shuffle "
   ]
  },
  {
   "cell_type": "markdown",
   "metadata": {},
   "source": [
    "The **shuffle() function** can be used to shuffle a list. The shuffle is performed in place, meaning the list/array is passed as  an argument to the shuffle() function and shuffled rather than a shuffled copy of the list being created and returned."
   ]
  },
  {
   "cell_type": "code",
   "execution_count": 12,
   "metadata": {},
   "outputs": [
    {
     "data": {
      "text/plain": [
       "array([0, 1, 2, 3, 4, 5, 6, 7, 8, 9])"
      ]
     },
     "execution_count": 12,
     "metadata": {},
     "output_type": "execute_result"
    }
   ],
   "source": [
    "# use arange to create an array of 10 numbers which starts at zero, not 1\n",
    "x = np.arange(10)\n",
    "x"
   ]
  },
  {
   "cell_type": "code",
   "execution_count": 13,
   "metadata": {},
   "outputs": [
    {
     "data": {
      "text/plain": [
       "array([6, 7, 2, 9, 3, 5, 8, 0, 1, 4])"
      ]
     },
     "execution_count": 13,
     "metadata": {},
     "output_type": "execute_result"
    }
   ],
   "source": [
    "# shuffle the array of numbers created above and return array\n",
    "np.random.shuffle(x)\n",
    "x"
   ]
  },
  {
   "cell_type": "code",
   "execution_count": 14,
   "metadata": {},
   "outputs": [
    {
     "name": "stdout",
     "output_type": "stream",
     "text": [
      "[0, 1, 2, 3, 4, 5, 6, 7, 8, 9, 10, 11, 12, 13, 14, 15, 16, 17, 18, 19]\n",
      "[8, 10, 2, 19, 5, 9, 1, 17, 7, 16, 0, 12, 3, 11, 15, 4, 6, 13, 18, 14]\n"
     ]
    }
   ],
   "source": [
    "# print list created by range, shuffle list and print\n",
    "cards = [i for i in range(20)]\n",
    "print(cards)\n",
    "np.random.shuffle(cards)\n",
    "print(cards)"
   ]
  },
  {
   "cell_type": "markdown",
   "metadata": {},
   "source": [
    "#### Permutations "
   ]
  },
  {
   "cell_type": "markdown",
   "metadata": {},
   "source": [
    "Permutations is different to shuffle as it does not shuffle the array in place rather shuffles a copy of the array. "
   ]
  },
  {
   "cell_type": "code",
   "execution_count": 15,
   "metadata": {},
   "outputs": [
    {
     "data": {
      "text/plain": [
       "array([ 4,  3, 11, 17, 13,  5,  7, 15, 19,  1,  6, 14,  2, 16, 12,  0,  8,\n",
       "        9, 18, 10])"
      ]
     },
     "execution_count": 15,
     "metadata": {},
     "output_type": "execute_result"
    }
   ],
   "source": [
    "# call permutations function and output is shuffled \n",
    "np.random.permutation(20)"
   ]
  },
  {
   "cell_type": "code",
   "execution_count": 16,
   "metadata": {},
   "outputs": [
    {
     "data": {
      "text/plain": [
       "array([1, 3, 6, 5])"
      ]
     },
     "execution_count": 16,
     "metadata": {},
     "output_type": "execute_result"
    }
   ],
   "source": [
    "# shuffle arguments passed\n",
    "np.random.permutation([1,3,5,6])"
   ]
  },
  {
   "cell_type": "markdown",
   "metadata": {},
   "source": [
    "### Distributions "
   ]
  },
  {
   "cell_type": "markdown",
   "metadata": {},
   "source": [
    "\"A random variable is a variable that takes on a set of possible values (discrete or continuous) and is subject to randomness. \n",
    "Each possible value the random variable can take on is associated with a probability. \n",
    "The possible values the random variable can take on and the associated probabilities is known as probability distribution.\"\n",
    "[[3]](#[3])"
   ]
  },
  {
   "cell_type": "markdown",
   "metadata": {},
   "source": [
    "#### numpy.random.uniform(low=0.0, high=1.0, size=None)"
   ]
  },
  {
   "cell_type": "markdown",
   "metadata": {},
   "source": [
    "In the above function values generated will be equal to or greater than the value passed to the low argument and be lower or equal to the value passed to the high argument. The default value is zero for low and 1 for high.\n",
    "\n",
    "The size argument is optional and will be the shape of the values generated i.e. by passing 500 you will see xxxxxxxx\n"
   ]
  },
  {
   "cell_type": "markdown",
   "metadata": {},
   "source": [
    "**Formula**"
   ]
  },
  {
   "cell_type": "code",
   "execution_count": 17,
   "metadata": {},
   "outputs": [
    {
     "data": {
      "image/png": "[encoded data removed]",
      "text/plain": [
       "<IPython.core.display.Image object>"
      ]
     },
     "execution_count": 17,
     "metadata": {},
     "output_type": "execute_result"
    }
   ],
   "source": [
    " Image(filename=\"Uniform.png\")"
   ]
  },
  {
   "cell_type": "code",
   "execution_count": 18,
   "metadata": {},
   "outputs": [
    {
     "data": {
      "image/png": "[encoded data removed]",
      "text/plain": [
       "<Figure size 432x288 with 1 Axes>"
      ]
     },
     "metadata": {},
     "output_type": "display_data"
    }
   ],
   "source": [
    "# call uniform function and pass 1 as the low and 2 as high argument for 10000 random values to be generated between\n",
    "g = np.random.uniform(1,2,10000)\n",
    "\n",
    "import matplotlib.pyplot as plt\n",
    "\n",
    "\n",
    "plt.hist(g, 10, density=True,color = 'b',rwidth = 0.95)\n",
    "plt.title(\"Uniform Distribution Histogram\")\n",
    "plt.xlabel(\"Values\")\n",
    "plt.ylabel(\"Frequency\")\n",
    "plt.show()"
   ]
  },
  {
   "cell_type": "markdown",
   "metadata": {},
   "source": [
    "On the x axis are the values being generated from 1 to 2 and the bars(bins) are spaced in 10 as specified in the above code. On the Y axis is the frequency of values being generated between 1 and 2. In total 10000 random samples were generated between\n",
    "1 and 2 and each value was as likely to be drawn as any other value  \n",
    "\n",
    "Example: between 1.0 and 1.1 in the region of 1000 values were generated and between 1.4 and 1.5 1000 values were generated.  \n",
    "\n"
   ]
  },
  {
   "cell_type": "markdown",
   "metadata": {},
   "source": [
    "Note that uniform function is similar to the **rand function** with the difference being rand will only \n",
    "generate numbers from 0 to 1."
   ]
  },
  {
   "cell_type": "markdown",
   "metadata": {},
   "source": [
    "#### numpy.random.geometric(p, size=None)"
   ]
  },
  {
   "cell_type": "markdown",
   "metadata": {},
   "source": [
    "To use the geometric function a brief explanation of the **Bernoulli trial** is required. A Bernoulli trial is an experiment that has two possible outcomes: success or failure. \n",
    "\n",
    "An example is a coin being tossed; only two possible outcomes the coin falls on head or tails.\n",
    "\n",
    "To use the geometric distribution the trials must be independant and each trial must have the same probability of success.\n",
    "\n",
    "The geometric distribution will model the number of failures before a trial will be successful. "
   ]
  },
  {
   "cell_type": "markdown",
   "metadata": {},
   "source": [
    "**Formula**"
   ]
  },
  {
   "cell_type": "code",
   "execution_count": 19,
   "metadata": {},
   "outputs": [
    {
     "data": {
      "image/png": "[encoded data removed]",
      "text/plain": [
       "<IPython.core.display.Image object>"
      ]
     },
     "execution_count": 19,
     "metadata": {},
     "output_type": "execute_result"
    }
   ],
   "source": [
    "Image(filename=\"Geometric.png\")"
   ]
  },
  {
   "cell_type": "code",
   "execution_count": 20,
   "metadata": {},
   "outputs": [
    {
     "name": "stdout",
     "output_type": "stream",
     "text": [
      "[2 1 2 6 3 1 3 2 1 4 2 2 1 2 2 1 2 3 2 1 4 2 2 1 3 2 1 2 1 1 1 2 3 5 2 8 1\n",
      " 3 1 1 1 1 1 6 4 1 1 1 2 2 3 5 1 1 2 1 2 1 1 1 1 1 2 1 1 2 1 3 4 3 1 1 1 2\n",
      " 1 2 4 3 2 1 3 3 1 3 1 1 1 1 1 2 1 1 2 2 1 2 1 2 1 1]\n"
     ]
    },
    {
     "data": {
      "image/png": "[encoded data removed]",
      "text/plain": [
       "<Figure size 432x288 with 1 Axes>"
      ]
     },
     "metadata": {},
     "output_type": "display_data"
    }
   ],
   "source": [
    "# call geometric function and pass . 5 as the probability of success for 100 values drawn\n",
    "x = np.random.geometric(p=.5, size = 100)\n",
    "print(x)\n",
    "plt.plot(x)\n",
    "plt.title('Geometric Distribution')\n",
    "plt.show()"
   ]
  },
  {
   "cell_type": "code",
   "execution_count": 21,
   "metadata": {},
   "outputs": [
    {
     "data": {
      "text/plain": [
       "array([False,  True, False, False, False,  True, False, False,  True,\n",
       "       False, False, False,  True, False, False,  True, False, False,\n",
       "       False,  True, False, False, False,  True, False, False,  True,\n",
       "       False,  True,  True,  True, False, False, False, False, False,\n",
       "        True, False,  True,  True,  True,  True,  True, False, False,\n",
       "        True,  True,  True, False, False, False, False,  True,  True,\n",
       "       False,  True, False,  True,  True,  True,  True,  True, False,\n",
       "        True,  True, False,  True, False, False, False,  True,  True,\n",
       "        True, False,  True, False, False, False, False,  True, False,\n",
       "       False,  True, False,  True,  True,  True,  True,  True, False,\n",
       "        True,  True, False, False,  True, False,  True, False,  True,\n",
       "        True])"
      ]
     },
     "execution_count": 21,
     "metadata": {},
     "output_type": "execute_result"
    }
   ],
   "source": [
    "# show if trial is successful denoted by 1(True)\n",
    "(x == 1)"
   ]
  },
  {
   "cell_type": "code",
   "execution_count": 22,
   "metadata": {},
   "outputs": [
    {
     "data": {
      "text/plain": [
       "0.48"
      ]
     },
     "execution_count": 22,
     "metadata": {},
     "output_type": "execute_result"
    }
   ],
   "source": [
    "# sum of trials that were successful after first run\n",
    "(x == 1).sum()/100"
   ]
  },
  {
   "cell_type": "markdown",
   "metadata": {},
   "source": [
    "#### numpy.random.pareto(a, size=None)"
   ]
  },
  {
   "cell_type": "markdown",
   "metadata": {},
   "source": [
    "The **Pareto distribution** was created by Italian economist Vilfredo Pareto and was often described as the 80/20 rule e.g. \n",
    "80% of the wealth is belong to 20% of the population. \n",
    "\n",
    "The function is usually applied when data is known to be unevenly distributed and can be applied to many real world situations\n",
    "e.g. 90% of a businesse's turnover is from 10% of their clients. "
   ]
  },
  {
   "cell_type": "markdown",
   "metadata": {},
   "source": [
    "**Formula**"
   ]
  },
  {
   "cell_type": "code",
   "execution_count": 23,
   "metadata": {},
   "outputs": [
    {
     "data": {
      "image/png": "[encoded data removed]",
      "text/plain": [
       "<IPython.core.display.Image object>"
      ]
     },
     "execution_count": 23,
     "metadata": {},
     "output_type": "execute_result"
    }
   ],
   "source": [
    "Image(filename=\"Pareto.png\")"
   ]
  },
  {
   "cell_type": "code",
   "execution_count": 24,
   "metadata": {},
   "outputs": [
    {
     "name": "stdout",
     "output_type": "stream",
     "text": [
      "[3.07576068 4.35022464 3.11652177 3.44387845 4.19934208 3.16495427\n",
      " 3.06041782 5.00472062 3.55431451 3.32946441 3.38707085 3.73662093\n",
      " 6.93091113 3.25035718 3.90153567 3.93636858 5.03910319 3.72762557\n",
      " 3.17503295 3.2160181  4.3352066  3.60628853 3.06396376 4.50475672\n",
      " 3.94025028 3.7621997  3.12685074 5.88401169 4.1233393  3.36421154\n",
      " 3.5103381  4.26837516 6.11468505 3.08272047 4.3585762  4.36023187\n",
      " 3.15673358 3.24554584 5.3628839  4.14507815 4.87099454 3.021477\n",
      " 4.08280958 5.05528729 3.85650799 3.92196841 3.65005039 3.02778662\n",
      " 3.26665413 3.05407149 3.35307804 3.40573108 4.54233678 3.07203284\n",
      " 4.82093755 4.12518758 3.51124801 5.50528168 3.6819787  6.07311453\n",
      " 4.32360286 5.56454861 4.17818749 3.76747503 3.68654285 3.23293729\n",
      " 4.90517849 3.27213205 3.53247171 3.03232843 4.01138962 3.96635076\n",
      " 3.13621812 3.08463212 3.52181127 4.43270148 4.17739179 3.15608605\n",
      " 3.18451278 3.68814788 3.22801847 3.58747544 3.21356049 3.12019059\n",
      " 5.49273514 3.3758539  3.21122311 3.46793498 3.41971355 5.39562666\n",
      " 3.6565937  3.41385924 3.33876897 4.40613663 4.2867107  3.21094173\n",
      " 3.13902777 3.40651748 3.90863204 3.80329759]\n"
     ]
    }
   ],
   "source": [
    "## a is the shape parameter and m is the lower bound of the distribution\n",
    "a, m = 4.,3.\n",
    "s = (np.random.pareto(a, 100) + 1) * m\n",
    "print(s)"
   ]
  },
  {
   "cell_type": "code",
   "execution_count": 25,
   "metadata": {},
   "outputs": [
    {
     "data": {
      "image/png": "[encoded data removed]",
      "text/plain": [
       "<Figure size 432x288 with 1 Axes>"
      ]
     },
     "metadata": {},
     "output_type": "display_data"
    }
   ],
   "source": [
    "# plot histogram with the values generated by pareto function (s) with 10 bins and lightblue color\n",
    "count, bins, _ = plt.hist(s, 10, density=True,color = 'Lightblue')\n",
    "# formula for the line\n",
    "fit = a*m**a / bins**(a+1)\n",
    "plt.plot(bins, max(count)*fit/max(fit), linewidth=2, color='r')\n",
    "plt.title('Pareto Chart')\n",
    "plt.show()"
   ]
  },
  {
   "cell_type": "markdown",
   "metadata": {},
   "source": [
    "In the above Pareto chart the majority values generated fall between 3 and 4 as displayed by the blue bins. \n",
    "\n",
    "The red line indicates the values from lowest value 3 (m) to highest random number generated. "
   ]
  },
  {
   "cell_type": "markdown",
   "metadata": {},
   "source": [
    "#### numpy.random.poisson(lam=1.0, size=None)"
   ]
  },
  {
   "cell_type": "markdown",
   "metadata": {},
   "source": [
    "\"The **Poisson distribution** was first introduced by Siméon Denis Poisson (1781–1840) and published, together with his probability theory, \n",
    "in 1837 in his work Recherches sur la probabilité des jugements en matière criminelle et en matière civile \n",
    "(\"Research on the Probability of Judgments in Criminal and Civil Matters\").\"\n",
    "\n",
    "A Poisson distribution helps to predict the probability of certain events from happening when you know \n",
    "how often the event has occurred. \n",
    "It gives us the probability of a given number of events happening in a fixed interval of time.\n",
    "\n",
    "Conditions for Poisson Distribution:\n",
    "\n",
    "An event can occur any number of times during a time period.\n",
    "\n",
    "Events occur independently. In other words, if an event occurs, it does not affect the probability of another event occurring in the same time period.\n",
    "\n",
    "The rate of occurrence is constant; that is, the rate does not change based on time.\n",
    "\n",
    "The probability of an event occurring is proportional to the length of the time period. \n",
    "\n",
    "\n"
   ]
  },
  {
   "cell_type": "markdown",
   "metadata": {},
   "source": [
    "**Formula**"
   ]
  },
  {
   "cell_type": "code",
   "execution_count": 26,
   "metadata": {},
   "outputs": [
    {
     "data": {
      "image/png": "[encoded data removed]",
      "text/plain": [
       "<IPython.core.display.Image object>"
      ]
     },
     "execution_count": 26,
     "metadata": {},
     "output_type": "execute_result"
    }
   ],
   "source": [
    "Image(filename=\"Poisson.png\")"
   ]
  },
  {
   "cell_type": "code",
   "execution_count": 27,
   "metadata": {},
   "outputs": [],
   "source": [
    "# call poisson function with the rate of occurance as the parameter (2) and passing 10000 samples\n",
    "x = np.random.poisson(2,10000)"
   ]
  },
  {
   "cell_type": "code",
   "execution_count": 28,
   "metadata": {},
   "outputs": [],
   "source": [
    "import matplotlib.pyplot as plt"
   ]
  },
  {
   "cell_type": "code",
   "execution_count": 29,
   "metadata": {},
   "outputs": [
    {
     "data": {
      "image/png": "[encoded data removed]",
      "text/plain": [
       "<Figure size 432x288 with 1 Axes>"
      ]
     },
     "metadata": {},
     "output_type": "display_data"
    }
   ],
   "source": [
    "plt.hist(x,bins = 5,density=False, rwidth = 0.95,color = 'Aqua')\n",
    "\n",
    "plt.title('Poisson Distribution')\n",
    "plt.xlabel('Rate')\n",
    "plt.ylabel('Frequency')\n",
    "plt.show()"
   ]
  },
  {
   "cell_type": "markdown",
   "metadata": {},
   "source": [
    "As you would expect the frequency of events is highest around the average time it takes for an event to occur = 2. This could be used to model the number of calls a call centre expects to receive within a time unit of 2."
   ]
  },
  {
   "cell_type": "markdown",
   "metadata": {},
   "source": [
    "#### numpy.random.triangular(left, mode, right, size=None)"
   ]
  },
  {
   "cell_type": "markdown",
   "metadata": {},
   "source": [
    "The **triangual distribution** is used when you know the minimum, maximum and most likely values to occur. This would be possible\n",
    "through some historical analysis of the data you interested in modelling. \n",
    "\n",
    "The minimum and maximum values most be fixed. "
   ]
  },
  {
   "cell_type": "markdown",
   "metadata": {},
   "source": [
    "Parameters: Left is the minimum value, mode is the most likely value, right is the maximum value \n",
    "            and size is the number of samples drawn"
   ]
  },
  {
   "cell_type": "markdown",
   "metadata": {},
   "source": [
    "**Formula**"
   ]
  },
  {
   "cell_type": "code",
   "execution_count": 30,
   "metadata": {},
   "outputs": [
    {
     "data": {
      "image/png": "[encoded data removed]",
      "text/plain": [
       "<IPython.core.display.Image object>"
      ]
     },
     "execution_count": 30,
     "metadata": {},
     "output_type": "execute_result"
    }
   ],
   "source": [
    "Image(filename=\"Triangular.png\")"
   ]
  },
  {
   "cell_type": "code",
   "execution_count": 31,
   "metadata": {},
   "outputs": [],
   "source": [
    "## call triangular function and pass parameters 2 for low, 4 most likely, 10 maximum and 100000 samples drawn\n",
    "x = np.random.triangular(2, 4, 10, 100000)"
   ]
  },
  {
   "cell_type": "code",
   "execution_count": 32,
   "metadata": {},
   "outputs": [
    {
     "data": {
      "text/plain": [
       "Text(0,0.5,'Probability')"
      ]
     },
     "execution_count": 32,
     "metadata": {},
     "output_type": "execute_result"
    },
    {
     "data": {
      "image/png": "[encoded data removed]",
      "text/plain": [
       "<Figure size 432x288 with 1 Axes>"
      ]
     },
     "metadata": {},
     "output_type": "display_data"
    }
   ],
   "source": [
    "## plot histogram with 100 bins, use color scheme xkcd and put space between bars\n",
    "plt.hist(x,bins = 100,density=True,color = 'xkcd:salmon',rwidth = 0.95)\n",
    "plt.title('Triangular Distribution')\n",
    "plt.xlabel('Values; Min 2,Max 10')\n",
    "plt.ylabel('Probability')"
   ]
  },
  {
   "cell_type": "markdown",
   "metadata": {},
   "source": [
    "This distribution could be used for modelling and visualizing sales of computers from week to week \n",
    "with minumum being 2 and maximum being 10. It could also\n",
    "to be used to model the probability that sales will be less or greater than the most likely\n",
    "value i.e. 5."
   ]
  },
  {
   "cell_type": "markdown",
   "metadata": {},
   "source": [
    "#### numpy.random.binomial(n, p, size=None)"
   ]
  },
  {
   "cell_type": "markdown",
   "metadata": {},
   "source": [
    "The binomial distribution describes the number of times a particular event occurs in a fixed number of trials, \n",
    "such as the number of heads in 10 flips of a coin\n",
    "The three conditions underlying the binomial distribution are:\n",
    "1. For each trial, only two outcomes are possible that are mutually exclusive.\n",
    "2. The trials are independent—what happens in the first trial does not affect the\n",
    "next trial.\n",
    "3. The probability of an event occurring remains the same from trial to trial."
   ]
  },
  {
   "cell_type": "markdown",
   "metadata": {},
   "source": [
    "Parameters: n is the number of trials, p is the probability of success and size equals number of samples drawn"
   ]
  },
  {
   "cell_type": "markdown",
   "metadata": {},
   "source": [
    "**Formula**"
   ]
  },
  {
   "cell_type": "code",
   "execution_count": 33,
   "metadata": {},
   "outputs": [
    {
     "data": {
      "image/png": "[encoded data removed]",
      "text/plain": [
       "<IPython.core.display.Image object>"
      ]
     },
     "execution_count": 33,
     "metadata": {},
     "output_type": "execute_result"
    }
   ],
   "source": [
    "Image(filename=\"Binomial.png\")"
   ]
  },
  {
   "cell_type": "code",
   "execution_count": 34,
   "metadata": {},
   "outputs": [
    {
     "data": {
      "text/plain": [
       "(array([0.00166667, 0.00666667, 0.03916667, 0.05291667, 0.08208333,\n",
       "        0.12708333, 0.06208333, 0.04083333, 0.00333333, 0.00083333]),\n",
       " array([30. , 32.4, 34.8, 37.2, 39.6, 42. , 44.4, 46.8, 49.2, 51.6, 54. ]),\n",
       " <a list of 10 Patch objects>)"
      ]
     },
     "execution_count": 34,
     "metadata": {},
     "output_type": "execute_result"
    },
    {
     "data": {
      "image/png": "[encoded data removed]",
      "text/plain": [
       "<Figure size 432x288 with 1 Axes>"
      ]
     },
     "metadata": {},
     "output_type": "display_data"
    }
   ],
   "source": [
    "## plot histgram with binomial function passing 60 as number of trials, .7 as probability and 1000 samples drawn\n",
    "plt.hist(x = np.random.binomial(60, .7, 1000),color = 'xkcd:red',density=True,rwidth = 0.95)"
   ]
  },
  {
   "cell_type": "code",
   "execution_count": 35,
   "metadata": {},
   "outputs": [
    {
     "data": {
      "text/plain": [
       "0.0"
      ]
     },
     "execution_count": 35,
     "metadata": {},
     "output_type": "execute_result"
    }
   ],
   "source": [
    "## illustrates probality of success being zero\n",
    "sum(np.random.binomial(60, .7, 1000) == 0)/1000"
   ]
  },
  {
   "cell_type": "markdown",
   "metadata": {},
   "source": [
    "To understand the above code if Manchester United played 60 matches and the probability of success was 70% regardless of the opposition, the probability that they would win zero matches is zero. "
   ]
  },
  {
   "cell_type": "markdown",
   "metadata": {},
   "source": [
    "## Use of seeds in generating pseudorandom numbers"
   ]
  },
  {
   "cell_type": "code",
   "execution_count": 36,
   "metadata": {},
   "outputs": [
    {
     "ename": "SyntaxError",
     "evalue": "invalid syntax (<ipython-input-36-85a97d7e8ce5>, line 1)",
     "output_type": "error",
     "traceback": [
      "\u001b[1;36m  File \u001b[1;32m\"<ipython-input-36-85a97d7e8ce5>\"\u001b[1;36m, line \u001b[1;32m1\u001b[0m\n\u001b[1;33m    RNG uses and how it's used\u001b[0m\n\u001b[1;37m           ^\u001b[0m\n\u001b[1;31mSyntaxError\u001b[0m\u001b[1;31m:\u001b[0m invalid syntax\n"
     ]
    }
   ],
   "source": []
  },
  {
   "cell_type": "code",
   "execution_count": null,
   "metadata": {},
   "outputs": [],
   "source": []
  },
  {
   "cell_type": "code",
   "execution_count": null,
   "metadata": {},
   "outputs": [],
   "source": []
  },
  {
   "cell_type": "code",
   "execution_count": null,
   "metadata": {},
   "outputs": [],
   "source": []
  },
  {
   "cell_type": "code",
   "execution_count": null,
   "metadata": {},
   "outputs": [],
   "source": []
  },
  {
   "cell_type": "markdown",
   "metadata": {},
   "source": [
    "\n",
    "## References"
   ]
  },
  {
   "cell_type": "markdown",
   "metadata": {},
   "source": [
    "<a id='[1]'></a>\n",
    "1. Numpy Function descriptions\n",
    " - https://docs.scipy.org/doc/numpy-1.15.1/reference/routines.random.html"
   ]
  },
  {
   "cell_type": "markdown",
   "metadata": {},
   "source": [
    "<a id='[2]'></a>\n",
    "2. Shuffle and permutations \n",
    " - https://machinelearningmastery.com/how-to-generate-random-numbers-in-python/k\n",
    " - https://stackoverflow.com/questions/15474159/shuffle-vs-permute-numpy"
   ]
  },
  {
   "cell_type": "markdown",
   "metadata": {},
   "source": [
    "<a id='[3]'></a>\n",
    " 3. Simple Random Data, Distributions and Visualisations\n",
    "    - https://bigdata-madesimple.com/how-to-implement-these-5-powerful-probability-distributions-in-python/\n",
    "    - https://www.mathbootcamps.com/common-shapes-of-distributions/\n",
    "    - https://www.gaussianwaves.com/2012/09/uniform-random-variables-and-uniform-distribution/\n",
    "    - https://study.com/academy/lesson/geometric-distribution-definition-equations-examples.html\n",
    "    - https://www.statisticshowto.datasciencecentral.com/pareto-distribution/\n",
    "    - http://bois.caltech.edu/dist_stories/t3b_probability_stories.html#Geometric-distribution\n",
    "    - https://en.wikipedia.org/wiki/Poisson_distribution\n",
    "    - https://brilliant.org/wiki/poisson-distribution/\n",
    "    - http://statisticsbyjim.com/basics/probability-distributions/\n",
    "    - https://www.statisticshowto.datasciencecentral.com/poisson-distribution/\n",
    "    - https://www.python-course.eu/python_numpy_probability.php\n",
    "    - Understanding and Choosing the Right Probability Distributions - Advanced Analytical Models: Over 800 Models and 300\n",
    "      Applications from the Basel II Accord to Wall Street and Beyond\n",
    "      By Johnathan Mun\n",
    "\n"
   ]
  },
  {
   "cell_type": "markdown",
   "metadata": {},
   "source": [
    "<a id='[4]'></a>\n",
    "4. Generating Pseudorandom numbers\n",
    " - https://realpython.com/python-random/\n",
    "        "
   ]
  },
  {
   "cell_type": "markdown",
   "metadata": {},
   "source": [
    "5. Matplotlib for Plots\n",
    " - https://matplotlib.org"
   ]
  },
  {
   "cell_type": "code",
   "execution_count": null,
   "metadata": {},
   "outputs": [],
   "source": []
  }
 ],
 "metadata": {
  "celltoolbar": "Raw Cell Format",
  "kernelspec": {
   "display_name": "Python 3",
   "language": "python",
   "name": "python3"
  },
  "language_info": {
   "codemirror_mode": {
    "name": "ipython",
    "version": 3
   },
   "file_extension": ".py",
   "mimetype": "text/x-python",
   "name": "python",
   "nbconvert_exporter": "python",
   "pygments_lexer": "ipython3",
   "version": "3.6.5"
  }
 },
 "nbformat": 4,
 "nbformat_minor": 2
}
