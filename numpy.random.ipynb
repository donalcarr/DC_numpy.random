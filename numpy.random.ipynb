{
 "cells": [
  {
   "cell_type": "markdown",
   "metadata": {},
   "source": [
    "# Assignment 2018 - Investigation of the numpy.random package "
   ]
  },
  {
   "cell_type": "markdown",
   "metadata": {},
   "source": [
    "## 1. Explain the overall purpose of the package "
   ]
  },
  {
   "cell_type": "code",
   "execution_count": 1,
   "metadata": {},
   "outputs": [
    {
     "data": {
      "image/jpeg": "[encoded data removed]",
      "text/plain": [
       "<IPython.core.display.Image object>"
      ]
     },
     "execution_count": 1,
     "metadata": {},
     "output_type": "execute_result"
    }
   ],
   "source": [
    "# uses ipython package to embed the image in the notebook so it is visible in GitHub\n",
    "from IPython.display import Image\n",
    "Image(filename=\"Numpy Image.jpeg\")"
   ]
  },
  {
   "cell_type": "markdown",
   "metadata": {},
   "source": [
    "Numpy is a package used for scientific computing within python and the subset package **numpy.random** is used for generating random numbers."
   ]
  },
  {
   "cell_type": "markdown",
   "metadata": {},
   "source": [
    "The functions within the package can be divided into three groups: **Simple Random Data, Permutations, and Distributions.**[[1]](#[1])"
   ]
  },
  {
   "cell_type": "markdown",
   "metadata": {},
   "source": [
    "Simple random data funtions such as randint can be used for generating an array of random numbers, \n",
    "permutations functions used to shuffle the array [[2]](#[2])\n",
    "and the array could be used in one of the probability distribution functions, as an example of how the functions within the package can be used together or individually."
   ]
  },
  {
   "cell_type": "markdown",
   "metadata": {},
   "source": [
    "The random numbers generated by numpy.random package are not truly random, rather are **pseudorandom** meaning an algorithm that starts with an inital value (seed) is used for generating the randomness of the numbers. Although not truly random, the degree of randomness is enough for most uses of random numbers. "
   ]
  },
  {
   "cell_type": "markdown",
   "metadata": {},
   "source": [
    "<a id='[See Above]'></a>\n",
    "The probability distribution functions contained in the numpy.random package can be divided into the following categories:\n",
    "     **Discrete probability functions**, and\n",
    "     **Probability density functions**."
   ]
  },
  {
   "cell_type": "markdown",
   "metadata": {},
   "source": [
    "**Discrete probability functions** such as **Geometric** or **Binomial**, take on a discrete number of values i.e. \n",
    "there is no inbetween value e.g. tossing a coin lands on heads or tails, or a clinical trial is either a success or\n",
    "failure. These events cannot produce an inbetween result. As these events are binary, the numpy.random distribution functions\n",
    "can be used to model the probability of the first instance of an event or the likelyhood of an event occurring. \n",
    "\n"
   ]
  },
  {
   "cell_type": "markdown",
   "metadata": {},
   "source": [
    "**Probability Density functions** such as **Normal** or **Triangual** distributions can take on an infinite number of values usually within a given range. The most well known distribution is the normal distribution where most of the values centre \n",
    "around the mean and fall within defined intervals or standard deviations from the mean.[[3]](#[3])"
   ]
  },
  {
   "cell_type": "markdown",
   "metadata": {},
   "source": [
    "When using the numpy.random package distribution functions it is important that the user understands their data and whether\n",
    "it is a correct fit for the chosen probability distribution. "
   ]
  },
  {
   "cell_type": "markdown",
   "metadata": {},
   "source": [
    "The generation of random numbers is an important facet of many real world scenarios such as video games to ensure the user\n",
    "encounters unpredicability when playing the game. Another example is online Roulette; the winning number is generated using a **RNG** random number generator each time you spin the wheel. Furthermore in clinical trials, an organisation may want to use probability distribution to see how many failure are likely before the first trial success. [[4]](#[4])\n"
   ]
  },
  {
   "cell_type": "markdown",
   "metadata": {},
   "source": [
    "To use the numpy package it needs to be imported into your chosen python interpreter environment if not already available\n",
    "and called as follows:"
   ]
  },
  {
   "cell_type": "code",
   "execution_count": 2,
   "metadata": {},
   "outputs": [],
   "source": [
    "# import numpy package and np for shorthand reference\n",
    "import numpy as np"
   ]
  },
  {
   "cell_type": "markdown",
   "metadata": {},
   "source": [
    "## 2. Explain the use of the Simple random data and Permutations functions"
   ]
  },
  {
   "cell_type": "markdown",
   "metadata": {},
   "source": [
    "### Simple Random Data  "
   ]
  },
  {
   "cell_type": "markdown",
   "metadata": {},
   "source": [
    "Simple Random data is a group of sub funtions within numpy.random used for generation random numbers. Functions such as rand are used to generate random numbers (an array) from the uniform distribution meaning each value has an equal probability of occurring."
   ]
  },
  {
   "cell_type": "markdown",
   "metadata": {},
   "source": [
    "The functions I will describe below can be used for everday life such as picking lotto numbers, picking winners for a raffle\n",
    "or for many real world cases where you need to employ random data. \n",
    "\n",
    "Examples of the everyday use of random numbers can be found on the **random.org** website created by  \n",
    "Dr Mads Haahr of the School of Computer Science and Statistics at Trinity College, Dublin which displays a user-friendly \n",
    "interface where lists can be randomised, lotto numbers picked or dice rolled. \n",
    "\n",
    "In the np.random.randint example to follow a coin is flipped 10 times and the results of the coin toss shown as output."
   ]
  },
  {
   "cell_type": "markdown",
   "metadata": {},
   "source": [
    "The following three functions are examples of Simple random data functions. [[1]](#[1])"
   ]
  },
  {
   "cell_type": "markdown",
   "metadata": {},
   "source": [
    "#### numpy.random.randint "
   ]
  },
  {
   "cell_type": "markdown",
   "metadata": {},
   "source": [
    "randint returns random integers from low to high and takes four parameters ((low, high=None, size=None, dtype='l'))"
   ]
  },
  {
   "cell_type": "code",
   "execution_count": 3,
   "metadata": {},
   "outputs": [
    {
     "data": {
      "text/plain": [
       "array([3, 2, 3, 3, 3])"
      ]
     },
     "execution_count": 3,
     "metadata": {},
     "output_type": "execute_result"
    }
   ],
   "source": [
    "# call randint function and display 5 integers greater than or equal to two but less than 4\n",
    "np.random.randint(2,4,5,'int')"
   ]
  },
  {
   "cell_type": "markdown",
   "metadata": {},
   "source": [
    "The above code takes the lowest integer 2 and highest integer 4 to be drawn from the distribution and the size/output array is 5 and datatype equals integer "
   ]
  },
  {
   "cell_type": "markdown",
   "metadata": {},
   "source": [
    "The high argument can be left out in which case the lowest integer that can be drawn will defualt to zero"
   ]
  },
  {
   "cell_type": "markdown",
   "metadata": {},
   "source": [
    "Below is a code snippet taken from https://www.pd4cs.org/flipping-a-coin/ where a **coin is flipped 10 times**\n",
    "and results displayed as output below. "
   ]
  },
  {
   "cell_type": "code",
   "execution_count": 4,
   "metadata": {},
   "outputs": [
    {
     "name": "stdout",
     "output_type": "stream",
     "text": [
      "Heads: 3\n",
      "Tails: 7\n"
     ]
    }
   ],
   "source": [
    "n = 10 #this value can easily be changed to change the sample size\n",
    "heads = 0\n",
    "tails = 0\n",
    "\n",
    "for i in range(n):\n",
    "    flip = np.random.randint(1,3) # get a random number between 1 and 2\n",
    "    if flip == 1: # head\n",
    "        heads = heads + 1\n",
    "    else:         # tail\n",
    "        tails = tails + 1\n",
    " \n",
    "print ('Heads:', heads)\n",
    "print ('Tails:', tails)"
   ]
  },
  {
   "cell_type": "markdown",
   "metadata": {},
   "source": [
    "#### numpy.random.rand "
   ]
  },
  {
   "cell_type": "code",
   "execution_count": 5,
   "metadata": {},
   "outputs": [
    {
     "data": {
      "image/png": "[encoded data removed]",
      "text/plain": [
       "<Figure size 432x288 with 1 Axes>"
      ]
     },
     "metadata": {},
     "output_type": "display_data"
    }
   ],
   "source": [
    "# import matplotlib package for visualizations\n",
    "# creates a histogram with 5000 values in 10 bins with each value just as likely to occur (uniform)\n",
    "import matplotlib.pyplot as plt\n",
    "%matplotlib inline\n",
    "y = np.random.rand(5000)\n",
    "plt.hist(y,color = 'xkcd:azure', rwidth = 0.95 )\n",
    "plt.show()"
   ]
  },
  {
   "cell_type": "markdown",
   "metadata": {},
   "source": [
    "Example 2"
   ]
  },
  {
   "cell_type": "code",
   "execution_count": 6,
   "metadata": {},
   "outputs": [
    {
     "data": {
      "text/plain": [
       "array([[0.13256038, 0.68765838, 0.73511273, 0.77916501, 0.08247454,\n",
       "        0.72368451, 0.12665218, 0.02194108, 0.39436663, 0.13721143]])"
      ]
     },
     "execution_count": 6,
     "metadata": {},
     "output_type": "execute_result"
    }
   ],
   "source": [
    "# create variable x and pass array shape to the rand function i.e 1 array with 1 column 1 row\n",
    "x = np.random.rand(1,10)\n",
    "x"
   ]
  },
  {
   "cell_type": "code",
   "execution_count": 7,
   "metadata": {},
   "outputs": [
    {
     "data": {
      "text/plain": [
       "array([[1.26512076, 2.37531675, 2.47022546, 2.55833002, 1.16494907,\n",
       "        2.44736901, 1.25330437, 1.04388215, 1.78873326, 1.27442285]])"
      ]
     },
     "execution_count": 7,
     "metadata": {},
     "output_type": "execute_result"
    }
   ],
   "source": [
    "# create variable y to create the y axis for the chart - formula will create the linear relationship\n",
    "y = 2 * x + 1\n",
    "y"
   ]
  },
  {
   "cell_type": "code",
   "execution_count": 8,
   "metadata": {},
   "outputs": [
    {
     "data": {
      "image/png": "[encoded data removed]",
      "text/plain": [
       "<Figure size 432x288 with 1 Axes>"
      ]
     },
     "metadata": {},
     "output_type": "display_data"
    }
   ],
   "source": [
    "# plot x and y variable above with red markers\n",
    "plt.plot(x,y,'ro')\n",
    "plt.show()"
   ]
  },
  {
   "cell_type": "markdown",
   "metadata": {},
   "source": [
    "#### numpy.random.choice "
   ]
  },
  {
   "cell_type": "markdown",
   "metadata": {},
   "source": [
    "random.choice generates a random sample of values and takes four parameters (a, size=None, replace=True, p=None). The function can be used to generate values in **uniform** or **non-uniform distributions**"
   ]
  },
  {
   "cell_type": "code",
   "execution_count": 9,
   "metadata": {},
   "outputs": [
    {
     "data": {
      "text/plain": [
       "array([2, 3])"
      ]
     },
     "execution_count": 9,
     "metadata": {},
     "output_type": "execute_result"
    }
   ],
   "source": [
    "# call random.choice and pass in arguments\n",
    "np.random.choice(5,2,replace =False,p=[0.1,0.05,0.7,0.1,0.05])"
   ]
  },
  {
   "cell_type": "markdown",
   "metadata": {},
   "source": [
    "In the above code a is the number of elements, 2 is the size of the array to be returned, \n",
    "and p is the probability of each element being randomly chosen.\n",
    "\n",
    "You would expect 2 to be chosen most often as the probability is 0.7 which is much higher than the other elements.\n",
    "\n",
    "As the probability is defined it is a non-uniform distribution i.e. each element does not have the same chance of being chosen"
   ]
  },
  {
   "cell_type": "code",
   "execution_count": 10,
   "metadata": {},
   "outputs": [
    {
     "data": {
      "text/plain": [
       "array(['Paul'], dtype='<U4')"
      ]
     },
     "execution_count": 10,
     "metadata": {},
     "output_type": "execute_result"
    }
   ],
   "source": [
    "# create list of non-integers and use choice to choose random sample, in this case 1 sample \n",
    "Name = ['John', 'Paul','Luke','Colm']\n",
    "np.random.choice(Name,1)"
   ]
  },
  {
   "cell_type": "markdown",
   "metadata": {},
   "source": [
    "The arguments passed do not have to be integers but can be other data types, as above. The code above could be used to **pick a winner of a raffle.**"
   ]
  },
  {
   "cell_type": "markdown",
   "metadata": {},
   "source": [
    "### Permutations"
   ]
  },
  {
   "cell_type": "markdown",
   "metadata": {},
   "source": [
    "The numpy shuffle and permutations functions are used to 'shuffle' arrays or integers similar to shuffling a deck of cards for randomness.\n",
    "[[2]](#[2])"
   ]
  },
  {
   "cell_type": "markdown",
   "metadata": {},
   "source": [
    "\n",
    "#### Shuffle "
   ]
  },
  {
   "cell_type": "markdown",
   "metadata": {},
   "source": [
    "The **shuffle() function** can be used to shuffle a list. The shuffle is performed in place, meaning the list/array is passed as  an argument to the shuffle() function and shuffled rather than a shuffled copy of the list being created and returned."
   ]
  },
  {
   "cell_type": "code",
   "execution_count": 11,
   "metadata": {},
   "outputs": [
    {
     "data": {
      "text/plain": [
       "array([0, 1, 2, 3, 4, 5, 6, 7, 8, 9])"
      ]
     },
     "execution_count": 11,
     "metadata": {},
     "output_type": "execute_result"
    }
   ],
   "source": [
    "# use arange to create an array of 10 numbers which starts at zero, not 1\n",
    "x = np.arange(10)\n",
    "x"
   ]
  },
  {
   "cell_type": "code",
   "execution_count": 12,
   "metadata": {},
   "outputs": [
    {
     "data": {
      "text/plain": [
       "array([7, 4, 6, 9, 0, 1, 5, 2, 3, 8])"
      ]
     },
     "execution_count": 12,
     "metadata": {},
     "output_type": "execute_result"
    }
   ],
   "source": [
    "# shuffle the array of numbers created above and return array\n",
    "np.random.shuffle(x)\n",
    "x"
   ]
  },
  {
   "cell_type": "code",
   "execution_count": 13,
   "metadata": {},
   "outputs": [
    {
     "name": "stdout",
     "output_type": "stream",
     "text": [
      "[0, 1, 2, 3, 4, 5, 6, 7, 8, 9, 10, 11, 12, 13, 14, 15, 16, 17, 18, 19]\n",
      "[6, 0, 2, 7, 12, 19, 4, 17, 8, 9, 18, 10, 11, 5, 16, 13, 3, 14, 15, 1]\n"
     ]
    }
   ],
   "source": [
    "# print list created by range, shuffle list and print\n",
    "cards = [i for i in range(20)]\n",
    "print(cards)\n",
    "np.random.shuffle(cards)\n",
    "print(cards)"
   ]
  },
  {
   "cell_type": "markdown",
   "metadata": {},
   "source": [
    "#### Permutations "
   ]
  },
  {
   "cell_type": "markdown",
   "metadata": {},
   "source": [
    "Permutations is different to shuffle as it does not shuffle the array in place rather shuffles a copy of the array. "
   ]
  },
  {
   "cell_type": "code",
   "execution_count": 14,
   "metadata": {},
   "outputs": [
    {
     "data": {
      "text/plain": [
       "array([11,  8, 10, 12, 13,  9, 18, 17,  1, 16, 19,  5,  6,  3, 14,  7, 15,\n",
       "        2,  4,  0])"
      ]
     },
     "execution_count": 14,
     "metadata": {},
     "output_type": "execute_result"
    }
   ],
   "source": [
    "# call permutations function and output is shuffled \n",
    "np.random.permutation(20)"
   ]
  },
  {
   "cell_type": "code",
   "execution_count": 15,
   "metadata": {},
   "outputs": [
    {
     "data": {
      "text/plain": [
       "array([6, 1, 3, 5])"
      ]
     },
     "execution_count": 15,
     "metadata": {},
     "output_type": "execute_result"
    }
   ],
   "source": [
    "# shuffle arguments passed\n",
    "np.random.permutation([1,3,5,6])"
   ]
  },
  {
   "cell_type": "markdown",
   "metadata": {},
   "source": [
    "### 3. Explain use and purpose of the Distributions functions"
   ]
  },
  {
   "cell_type": "markdown",
   "metadata": {},
   "source": [
    "_\"A random variable is a variable that takes on a set of possible values (discrete or continuous) and is subject to randomness. \n",
    "Each possible value the random variable can take on is associated with a probability. \n",
    "The possible values the random variable can take on and the associated probabilities is known as probability distribution.\"_\n",
    "[[3]](#[3])https://bigdata-madesimple.com/how-to-implement-these-5-powerful-probability-distributions-in-python/"
   ]
  },
  {
   "cell_type": "markdown",
   "metadata": {},
   "source": [
    "Examples provided below fall into the Discrete probability and Probability density functions outlined at the beginning of this notebook. [[See Above]](#[See Above])"
   ]
  },
  {
   "cell_type": "markdown",
   "metadata": {},
   "source": [
    "#### numpy.random.uniform(low=0.0, high=1.0, size=None)"
   ]
  },
  {
   "cell_type": "markdown",
   "metadata": {},
   "source": [
    "Values generated will be equal to or greater than the value passed to the low argument and be lower or equal to the value passed to the high argument. The default value is zero for low and 1 for high."
   ]
  },
  {
   "cell_type": "markdown",
   "metadata": {},
   "source": [
    "**Formula**"
   ]
  },
  {
   "cell_type": "code",
   "execution_count": 16,
   "metadata": {},
   "outputs": [
    {
     "data": {
      "image/png": "[encoded data removed]",
      "text/plain": [
       "<IPython.core.display.Image object>"
      ]
     },
     "execution_count": 16,
     "metadata": {},
     "output_type": "execute_result"
    }
   ],
   "source": [
    " Image(filename=\"Uniform.png\")"
   ]
  },
  {
   "cell_type": "code",
   "execution_count": 17,
   "metadata": {},
   "outputs": [
    {
     "data": {
      "image/png": "[encoded data removed]",
      "text/plain": [
       "<Figure size 432x288 with 1 Axes>"
      ]
     },
     "metadata": {},
     "output_type": "display_data"
    }
   ],
   "source": [
    "# call uniform function and pass 1 as the low and 2 as high argument for 10000 random values to be generated between\n",
    "g = np.random.uniform(1,2,10000)\n",
    "\n",
    "import matplotlib.pyplot as plt\n",
    "\n",
    "\n",
    "plt.hist(g, 10, density=True,color = 'b',rwidth = 0.95)\n",
    "plt.title(\"Uniform Distribution Histogram\")\n",
    "plt.xlabel(\"Values\")\n",
    "plt.ylabel(\"Frequency\")\n",
    "plt.show()"
   ]
  },
  {
   "cell_type": "markdown",
   "metadata": {},
   "source": [
    "On the x axis are the values being generated from 1 to 2 and the bars(bins) are spaced in 10 as specified in the above code. On the Y axis is the frequency of values being generated between 1 and 2. In total 10000 random samples were generated between\n",
    "1 and 2 and each value was as likely to be drawn as any other value  \n",
    "\n",
    "Example: between 1.0 and 1.1 in the region of 1000 values were generated and between 1.4 and 1.5 1000 values were generated.  \n",
    "\n"
   ]
  },
  {
   "cell_type": "markdown",
   "metadata": {},
   "source": [
    "Note that uniform function is similar to the **rand function** with the difference being rand will only \n",
    "generate numbers from 0 to 1."
   ]
  },
  {
   "cell_type": "markdown",
   "metadata": {},
   "source": [
    "#### numpy.random.geometric(p, size=None)"
   ]
  },
  {
   "cell_type": "markdown",
   "metadata": {},
   "source": [
    "To use the geometric function a brief explanation of the **Bernoulli trial** is required. A Bernoulli trial is an experiment that has two possible outcomes: success or failure. \n",
    "\n",
    "An example is a coin being tossed; only two possible outcomes the coin falls on head or tails.\n",
    "\n",
    "To use the geometric distribution the trials must be independant and each trial must have the same probability of success.\n",
    "\n",
    "The **geometric distribution** will model the number of failures before a trial will be successful. "
   ]
  },
  {
   "cell_type": "markdown",
   "metadata": {},
   "source": [
    "**Formula**"
   ]
  },
  {
   "cell_type": "code",
   "execution_count": 18,
   "metadata": {},
   "outputs": [
    {
     "data": {
      "image/png": "[encoded data removed]",
      "text/plain": [
       "<IPython.core.display.Image object>"
      ]
     },
     "execution_count": 18,
     "metadata": {},
     "output_type": "execute_result"
    }
   ],
   "source": [
    "Image(filename=\"Geometric.png\")"
   ]
  },
  {
   "cell_type": "code",
   "execution_count": 19,
   "metadata": {},
   "outputs": [
    {
     "name": "stdout",
     "output_type": "stream",
     "text": [
      "[2 2 1 4 4 6 1 2 1 1 1 2 1 1 1 1 1 3 2 1 2 1 1 1 3 3 2 1 1 2 1 1 1 3 1 1 3\n",
      " 1 2 1 3 1 2 2 4 4 1 3 1 1 1 2 5 2 1 2 1 1 2 3 1 1 1 1 2 1 3 2 4 2 1 4 2 3\n",
      " 1 4 1 1 1 2 1 2 3 1 5 1 1 3 5 1 2 1 1 4 3 1 2 2 3 1]\n"
     ]
    },
    {
     "data": {
      "image/png": "[encoded data removed]",
      "text/plain": [
       "<Figure size 432x288 with 1 Axes>"
      ]
     },
     "metadata": {},
     "output_type": "display_data"
    }
   ],
   "source": [
    "# call geometric function and pass . 5 as the probability of success for 100 values drawn\n",
    "x = np.random.geometric(p=.5, size = 100)\n",
    "print(x)\n",
    "plt.plot(x)\n",
    "plt.title('Geometric Distribution')\n",
    "plt.show()"
   ]
  },
  {
   "cell_type": "code",
   "execution_count": 20,
   "metadata": {},
   "outputs": [
    {
     "data": {
      "text/plain": [
       "array([False, False,  True, False, False, False,  True, False,  True,\n",
       "        True,  True, False,  True,  True,  True,  True,  True, False,\n",
       "       False,  True, False,  True,  True,  True, False, False, False,\n",
       "        True,  True, False,  True,  True,  True, False,  True,  True,\n",
       "       False,  True, False,  True, False,  True, False, False, False,\n",
       "       False,  True, False,  True,  True,  True, False, False, False,\n",
       "        True, False,  True,  True, False, False,  True,  True,  True,\n",
       "        True, False,  True, False, False, False, False,  True, False,\n",
       "       False, False,  True, False,  True,  True,  True, False,  True,\n",
       "       False, False,  True, False,  True,  True, False, False,  True,\n",
       "       False,  True,  True, False, False,  True, False, False, False,\n",
       "        True])"
      ]
     },
     "execution_count": 20,
     "metadata": {},
     "output_type": "execute_result"
    }
   ],
   "source": [
    "# show if trial is successful denoted by 1(True)\n",
    "(x == 1)"
   ]
  },
  {
   "cell_type": "code",
   "execution_count": 21,
   "metadata": {},
   "outputs": [
    {
     "data": {
      "text/plain": [
       "0.5"
      ]
     },
     "execution_count": 21,
     "metadata": {},
     "output_type": "execute_result"
    }
   ],
   "source": [
    "# sum of trials that were successful after first run\n",
    "(x == 1).sum()/100"
   ]
  },
  {
   "cell_type": "markdown",
   "metadata": {},
   "source": [
    "#### numpy.random.pareto(a, size=None)"
   ]
  },
  {
   "cell_type": "markdown",
   "metadata": {},
   "source": [
    "The **Pareto distribution** was created by Italian economist Vilfredo Pareto and was often described as the **80/20 rule** e.g. \n",
    "80% of the wealth is belong to 20% of the population. \n",
    "\n",
    "The function is usually applied when data is known to be unevenly distributed and can be applied to many real world situations\n",
    "e.g. _90% of a business's turnover is from 10% of their clients._"
   ]
  },
  {
   "cell_type": "markdown",
   "metadata": {},
   "source": [
    "**Formula**"
   ]
  },
  {
   "cell_type": "code",
   "execution_count": 22,
   "metadata": {},
   "outputs": [
    {
     "data": {
      "image/png": "[encoded data removed]",
      "text/plain": [
       "<IPython.core.display.Image object>"
      ]
     },
     "execution_count": 22,
     "metadata": {},
     "output_type": "execute_result"
    }
   ],
   "source": [
    "Image(filename=\"Pareto.png\")"
   ]
  },
  {
   "cell_type": "code",
   "execution_count": 23,
   "metadata": {},
   "outputs": [
    {
     "name": "stdout",
     "output_type": "stream",
     "text": [
      "[ 5.19663307  3.10607534  4.23614504  3.35776954  3.09098842  3.20044523\n",
      "  3.07829265  3.78214509  3.12510978  4.01680768  5.95209638  3.26160861\n",
      " 15.09196705  3.15737458  3.38114711  3.33575206  4.95084262  3.39111177\n",
      "  3.38211925  5.40249707  8.77090847  3.7291611   3.8241675   3.03117318\n",
      "  3.7911353   5.65628566  4.21888563  3.23753213  5.34082719  3.93763023\n",
      "  3.13808204  5.11235444  9.53066095  5.67394709  3.28845951  3.11529007\n",
      "  4.13145675  3.19413627  3.49406822  6.51751612  4.20882797  3.01375233\n",
      "  3.94116551  4.10601896  6.31348242  3.80100869  3.17912844  3.54741618\n",
      "  3.5788526   3.32963242  3.91094689  3.11907346  3.6355995   6.17678328\n",
      "  3.6385223   3.88103374  3.43679054  5.28369638  3.61649555  5.48413253\n",
      "  3.11871276  4.79786106  3.12939047  4.62414656  3.75553958  3.16781508\n",
      "  3.39803115  3.25799121  3.39095197  5.24389844  4.42556949  6.75582638\n",
      "  3.03066245  3.95286624  3.44469365  3.76510366  5.24851613  3.7318912\n",
      "  3.82803973  3.08666884  3.24993658  4.88269111  3.18998381  4.77634055\n",
      "  4.91151141  4.17143229  3.76235735  4.06997755  3.57103104  3.40629871\n",
      "  3.7180644   3.7765305   3.0968466   3.40023588  3.03010791  3.72192666\n",
      "  3.91097204  4.06825792  3.35407295  3.55312275]\n"
     ]
    }
   ],
   "source": [
    "## a is the shape parameter and m is the lower bound of the distribution\n",
    "a, m = 4.,3.\n",
    "s = (np.random.pareto(a, 100) + 1) * m\n",
    "print(s)"
   ]
  },
  {
   "cell_type": "code",
   "execution_count": 24,
   "metadata": {},
   "outputs": [
    {
     "data": {
      "image/png": "[encoded data removed]",
      "text/plain": [
       "<Figure size 432x288 with 1 Axes>"
      ]
     },
     "metadata": {},
     "output_type": "display_data"
    }
   ],
   "source": [
    "# plot histogram with the values generated in 10 bins and lightblue color\n",
    "count, bins, _ = plt.hist(s, 10, density=True,color = 'Lightblue')\n",
    "# formula for the line\n",
    "fit = a*m**a / bins**(a+1)\n",
    "plt.plot(bins, max(count)*fit/max(fit), linewidth=2, color='r')\n",
    "plt.title('Pareto Chart')\n",
    "plt.show()"
   ]
  },
  {
   "cell_type": "markdown",
   "metadata": {},
   "source": [
    "In the above Pareto chart the majority values generated fall between 3 and 4 as displayed by the blue bins. \n",
    "\n",
    "The red line indicates the values from lowest value 3 (m) to highest random number generated. "
   ]
  },
  {
   "cell_type": "markdown",
   "metadata": {},
   "source": [
    "#### numpy.random.poisson(lam=1.0, size=None)"
   ]
  },
  {
   "cell_type": "markdown",
   "metadata": {},
   "source": [
    "The **Poisson distribution** was first introduced by **Siméon Denis Poisson** (1781–1840) and published, together with his probability theory, \n",
    "in 1837 in his work Recherches sur la probabilité des jugements en matière criminelle et en matière civile \n",
    "(\"Research on the Probability of Judgments in Criminal and Civil Matters\").\n",
    "\n",
    "A Poisson distribution helps to predict the probability of certain events from happening when you know \n",
    "how often the event has occurred. \n",
    "It gives us the probability of a given number of events happening in a fixed interval of time.\n",
    "\n",
    "Conditions for Poisson Distribution:\n",
    "\n",
    " - An event can occur any number of times during a time period.\n",
    "\n",
    " - Events occur independently. In other words, if an event occurs, it does not affect the probability of another event occurring    in the same time period.\n",
    "\n",
    " - The rate of occurrence is constant; that is, the rate does not change based on time.\n",
    "\n",
    " - The probability of an event occurring is proportional to the length of the time period. \n",
    "\n",
    "\n"
   ]
  },
  {
   "cell_type": "markdown",
   "metadata": {},
   "source": [
    "**Formula**"
   ]
  },
  {
   "cell_type": "code",
   "execution_count": 25,
   "metadata": {},
   "outputs": [
    {
     "data": {
      "image/png": "[encoded data removed]",
      "text/plain": [
       "<IPython.core.display.Image object>"
      ]
     },
     "execution_count": 25,
     "metadata": {},
     "output_type": "execute_result"
    }
   ],
   "source": [
    "Image(filename=\"Poisson.png\")"
   ]
  },
  {
   "cell_type": "code",
   "execution_count": 26,
   "metadata": {},
   "outputs": [],
   "source": [
    "# call poisson function with the rate of occurance as the parameter (2) and passing 10000 samples\n",
    "x = np.random.poisson(2,10000)"
   ]
  },
  {
   "cell_type": "code",
   "execution_count": 27,
   "metadata": {},
   "outputs": [],
   "source": [
    "import matplotlib.pyplot as plt"
   ]
  },
  {
   "cell_type": "code",
   "execution_count": 28,
   "metadata": {},
   "outputs": [
    {
     "data": {
      "image/png": "[encoded data removed]",
      "text/plain": [
       "<Figure size 432x288 with 1 Axes>"
      ]
     },
     "metadata": {},
     "output_type": "display_data"
    }
   ],
   "source": [
    "plt.hist(x,bins = 5,density=False, rwidth = 0.95,color = 'Aqua')\n",
    "\n",
    "plt.title('Poisson Distribution')\n",
    "plt.xlabel('Rate')\n",
    "plt.ylabel('Frequency')\n",
    "plt.show()"
   ]
  },
  {
   "cell_type": "markdown",
   "metadata": {},
   "source": [
    "As you would expect the frequency of events is highest around the average time it takes for an event to occur = 2. This could be used to model the number of calls a **call centre expects to receive within a time unit of 2**."
   ]
  },
  {
   "cell_type": "markdown",
   "metadata": {},
   "source": [
    "#### numpy.random.triangular(left, mode, right, size=None)"
   ]
  },
  {
   "cell_type": "markdown",
   "metadata": {},
   "source": [
    "The **triangual distribution** is used when you know the minimum, maximum and most likely values to occur. This would be possible\n",
    "through some historical analysis of the data you interested in modelling. \n",
    "\n",
    "The minimum and maximum values most be fixed. "
   ]
  },
  {
   "cell_type": "markdown",
   "metadata": {},
   "source": [
    "Parameters: Left is the minimum value, mode is the most likely value, right is the maximum value \n",
    "            and size is the number of samples drawn"
   ]
  },
  {
   "cell_type": "markdown",
   "metadata": {},
   "source": [
    "**Formula**"
   ]
  },
  {
   "cell_type": "code",
   "execution_count": 29,
   "metadata": {},
   "outputs": [
    {
     "data": {
      "image/png": "[encoded data removed]",
      "text/plain": [
       "<IPython.core.display.Image object>"
      ]
     },
     "execution_count": 29,
     "metadata": {},
     "output_type": "execute_result"
    }
   ],
   "source": [
    "Image(filename=\"Triangular.png\")"
   ]
  },
  {
   "cell_type": "code",
   "execution_count": 30,
   "metadata": {},
   "outputs": [],
   "source": [
    "## call triangular function and pass parameters 2 for low, 4 most likely, 10 maximum and 100000 samples drawn\n",
    "x = np.random.triangular(2, 4, 10, 100000)"
   ]
  },
  {
   "cell_type": "code",
   "execution_count": 31,
   "metadata": {},
   "outputs": [
    {
     "data": {
      "text/plain": [
       "Text(0,0.5,'Probability')"
      ]
     },
     "execution_count": 31,
     "metadata": {},
     "output_type": "execute_result"
    },
    {
     "data": {
      "image/png": "[encoded data removed]",
      "text/plain": [
       "<Figure size 432x288 with 1 Axes>"
      ]
     },
     "metadata": {},
     "output_type": "display_data"
    }
   ],
   "source": [
    "## plot histogram with 100 bins, use color scheme xkcd and put space between bars\n",
    "plt.hist(x,bins = 100,density=True,color = 'xkcd:salmon',rwidth = 0.95)\n",
    "plt.title('Triangular Distribution')\n",
    "plt.xlabel('Values; Min 2,Max 10')\n",
    "plt.ylabel('Probability')"
   ]
  },
  {
   "cell_type": "markdown",
   "metadata": {},
   "source": [
    "This distribution could be used for modelling and visualizing _**sales of computers** from week to week \n",
    "with minumum being 2 and maximum being 10. It could also\n",
    "to be used to model the probability that sales will be less or greater than the most likely\n",
    "value i.e. 5._"
   ]
  },
  {
   "cell_type": "markdown",
   "metadata": {},
   "source": [
    "#### numpy.random.binomial(n, p, size=None)"
   ]
  },
  {
   "cell_type": "markdown",
   "metadata": {},
   "source": [
    "The binomial distribution describes the number of times a particular event occurs in a fixed number of trials, \n",
    "such as the number of heads in 10 flips of a coin\n",
    "The three conditions underlying the binomial distribution are:\n",
    "1. For each trial, only two outcomes are possible that are mutually exclusive.\n",
    "2. The trials are independent—what happens in the first trial does not affect the\n",
    "next trial.\n",
    "3. The probability of an event occurring remains the same from trial to trial."
   ]
  },
  {
   "cell_type": "markdown",
   "metadata": {},
   "source": [
    "Parameters: n is the number of trials, p is the probability of success and size equals number of samples drawn"
   ]
  },
  {
   "cell_type": "markdown",
   "metadata": {},
   "source": [
    "**Formula**"
   ]
  },
  {
   "cell_type": "code",
   "execution_count": 32,
   "metadata": {},
   "outputs": [
    {
     "data": {
      "image/png": "[encoded data removed]",
      "text/plain": [
       "<IPython.core.display.Image object>"
      ]
     },
     "execution_count": 32,
     "metadata": {},
     "output_type": "execute_result"
    }
   ],
   "source": [
    "Image(filename=\"Binomial.png\")"
   ]
  },
  {
   "cell_type": "code",
   "execution_count": 33,
   "metadata": {},
   "outputs": [
    {
     "data": {
      "text/plain": [
       "(array([0.00347826, 0.01043478, 0.02565217, 0.09521739, 0.09913043,\n",
       "        0.08695652, 0.09391304, 0.01434783, 0.00478261, 0.00086957]),\n",
       " array([31. , 33.3, 35.6, 37.9, 40.2, 42.5, 44.8, 47.1, 49.4, 51.7, 54. ]),\n",
       " <a list of 10 Patch objects>)"
      ]
     },
     "execution_count": 33,
     "metadata": {},
     "output_type": "execute_result"
    },
    {
     "data": {
      "image/png": "[encoded data removed]",
      "text/plain": [
       "<Figure size 432x288 with 1 Axes>"
      ]
     },
     "metadata": {},
     "output_type": "display_data"
    }
   ],
   "source": [
    "## plot histgram with binomial function passing 60 as number of trials, .7 as probability and 1000 samples drawn\n",
    "plt.hist(x = np.random.binomial(60, .7, 1000),color = 'xkcd:red',density=True,rwidth = 0.95)"
   ]
  },
  {
   "cell_type": "code",
   "execution_count": 34,
   "metadata": {},
   "outputs": [
    {
     "data": {
      "text/plain": [
       "0.0"
      ]
     },
     "execution_count": 34,
     "metadata": {},
     "output_type": "execute_result"
    }
   ],
   "source": [
    "## illustrates probality of success being zero\n",
    "sum(np.random.binomial(60, .7, 1000) == 0)/1000"
   ]
  },
  {
   "cell_type": "markdown",
   "metadata": {},
   "source": [
    "To understand the above code, if **Manchester United** played 60 matches and the probability of success was 70%, and ignoring the strength of the opposition as a variable, the probability that they would win no matches is zero. "
   ]
  },
  {
   "cell_type": "markdown",
   "metadata": {},
   "source": [
    "## Use of seeds in generating pseudorandom numbers"
   ]
  },
  {
   "cell_type": "markdown",
   "metadata": {},
   "source": [
    "As mentioned at the beginning of the assignment random numbers generated by computers are not truly random but are \n",
    "pseudorandom meaning a mathmatical formula (algorithm) was produced to generated the number(s) required.\n",
    "\n",
    "A pseudorandom number generator **PRNG** generates a sequence of number(s) once given an initial seed value. An algorithm generates a\n",
    "sequence of random numbers from that initial point(seed). As a starting point was given to the algorithm it is possible to understand \n",
    "the sequence of the random number generator over time so it cannot be said the numbers are truly random.\n",
    "\n",
    "If the PRNG is not given a seed value it uses the system time or another source from the operating system. Most programs use the current date and time, converted to an integer value (for example, converted to the number of seconds that have elapsed since January 1, 1970). \n",
    "\n",
    "Truly Random Number generator **TRNG** uses physical phenomena to generate random numbers. Physical phenomena could be \n",
    "background noise outside and only by chance could the sequence of numbers be reproduced. "
   ]
  },
  {
   "cell_type": "markdown",
   "metadata": {},
   "source": [
    "Cryptographically Secure Random Number generator **CSRNG** is used for generating passwords, encrytion keys i.e. sensitive data.\n",
    "CSRNG uses additional layers of securuity to increase the randomness making it almost imposiible for the seed value to be \n",
    "understood.[[4]](#[4])\n"
   ]
  },
  {
   "cell_type": "markdown",
   "metadata": {},
   "source": [
    "Numpy.random contains a function called random state that creates an initial seed value before generating random numbers(s)."
   ]
  },
  {
   "cell_type": "code",
   "execution_count": 35,
   "metadata": {},
   "outputs": [
    {
     "data": {
      "text/plain": [
       "<mtrand.RandomState at 0x1d57753bb88>"
      ]
     },
     "execution_count": 35,
     "metadata": {},
     "output_type": "execute_result"
    }
   ],
   "source": [
    "## will try to read data from /dev/urandom (or the Windows analogue) if available or seed from the OS otherwise.\n",
    "np.random.RandomState(seed=None)"
   ]
  },
  {
   "cell_type": "code",
   "execution_count": 36,
   "metadata": {},
   "outputs": [
    {
     "data": {
      "text/plain": [
       "array([[0.5507979 , 0.70814782],\n",
       "       [0.29090474, 0.51082761],\n",
       "       [0.89294695, 0.89629309]])"
      ]
     },
     "execution_count": 36,
     "metadata": {},
     "output_type": "execute_result"
    }
   ],
   "source": [
    "## sets the seed to 3\n",
    "np.random.seed(3)\n",
    "np.random.rand(3,2)"
   ]
  },
  {
   "cell_type": "code",
   "execution_count": 37,
   "metadata": {},
   "outputs": [
    {
     "data": {
      "text/plain": [
       "array([[0.12558531, 0.20724288],\n",
       "       [0.0514672 , 0.44080984],\n",
       "       [0.02987621, 0.45683322]])"
      ]
     },
     "execution_count": 37,
     "metadata": {},
     "output_type": "execute_result"
    }
   ],
   "source": [
    "np.random.rand(3,2)"
   ]
  },
  {
   "cell_type": "markdown",
   "metadata": {},
   "source": [
    "Below you will see that the **results will be identical** as the seed has not changed so the sequence is predermined. "
   ]
  },
  {
   "cell_type": "code",
   "execution_count": 38,
   "metadata": {},
   "outputs": [
    {
     "data": {
      "text/plain": [
       "array([[0.5507979 , 0.70814782],\n",
       "       [0.29090474, 0.51082761],\n",
       "       [0.89294695, 0.89629309]])"
      ]
     },
     "execution_count": 38,
     "metadata": {},
     "output_type": "execute_result"
    }
   ],
   "source": [
    "np.random.seed(3)\n",
    "np.random.rand(3,2)"
   ]
  },
  {
   "cell_type": "code",
   "execution_count": 39,
   "metadata": {},
   "outputs": [
    {
     "data": {
      "text/plain": [
       "array([[0.12558531, 0.20724288],\n",
       "       [0.0514672 , 0.44080984],\n",
       "       [0.02987621, 0.45683322]])"
      ]
     },
     "execution_count": 39,
     "metadata": {},
     "output_type": "execute_result"
    }
   ],
   "source": [
    "## using the seed value from the OS will produce a different sequence as the inital seed value changes each time function is run\n",
    "np.random.rand(3,2)"
   ]
  },
  {
   "cell_type": "markdown",
   "metadata": {},
   "source": [
    "\n",
    "## Bibliography"
   ]
  },
  {
   "cell_type": "markdown",
   "metadata": {},
   "source": [
    "<a id='[1]'></a>\n",
    "1. Numpy Function descriptions\n",
    " - https://docs.scipy.org/doc/numpy-1.15.1/reference/routines.random.html"
   ]
  },
  {
   "cell_type": "markdown",
   "metadata": {},
   "source": [
    "<a id='[2]'></a>\n",
    "2. Shuffle and permutations \n",
    " - https://machinelearningmastery.com/how-to-generate-random-numbers-in-python/k\n",
    " - https://stackoverflow.com/questions/15474159/shuffle-vs-permute-numpy"
   ]
  },
  {
   "cell_type": "markdown",
   "metadata": {},
   "source": [
    "<a id='[3]'></a>\n",
    " 3. Simple Random Data, Distributions and Visualisations\n",
    "    - https://bigdata-madesimple.com/how-to-implement-these-5-powerful-probability-distributions-in-python/\n",
    "    - https://www.mathbootcamps.com/common-shapes-of-distributions/\n",
    "    - https://www.gaussianwaves.com/2012/09/uniform-random-variables-and-uniform-distribution/\n",
    "    - https://study.com/academy/lesson/geometric-distribution-definition-equations-examples.html\n",
    "    - https://www.statisticshowto.datasciencecentral.com/pareto-distribution/\n",
    "    - http://bois.caltech.edu/dist_stories/t3b_probability_stories.html#Geometric-distribution\n",
    "    - https://en.wikipedia.org/wiki/Poisson_distribution\n",
    "    - https://brilliant.org/wiki/poisson-distribution/\n",
    "    - http://statisticsbyjim.com/basics/probability-distributions/\n",
    "    - https://www.statisticshowto.datasciencecentral.com/poisson-distribution/\n",
    "    - https://www.python-course.eu/python_numpy_probability.php\n",
    "    - https://www.pd4cs.org/flipping-a-coin/\n",
    "    - Understanding and Choosing the Right Probability Distributions - Advanced Analytical Models: Over 800 Models and 300\n",
    "      Applications from the Basel II Accord to Wall Street and Beyond\n",
    "      By Johnathan Mun\n",
    "\n"
   ]
  },
  {
   "cell_type": "markdown",
   "metadata": {},
   "source": [
    "<a id='[4]'></a>\n",
    "4. Generating Pseudorandom numbers\n",
    " - https://realpython.com/python-random/\n",
    " - https://www.random.org/\n",
    " - http://www.math.sci.hiroshima-u.ac.jp/~m-mat/MT/ARTICLES/mt.pdf\n",
    " - https://computer.howstuffworks.com/question697.htm\n",
    "        "
   ]
  },
  {
   "cell_type": "markdown",
   "metadata": {},
   "source": [
    "5. Matplotlib for Plots\n",
    " - https://matplotlib.org"
   ]
  },
  {
   "cell_type": "code",
   "execution_count": null,
   "metadata": {},
   "outputs": [],
   "source": []
  }
 ],
 "metadata": {
  "celltoolbar": "Raw Cell Format",
  "kernelspec": {
   "display_name": "Python 3",
   "language": "python",
   "name": "python3"
  },
  "language_info": {
   "codemirror_mode": {
    "name": "ipython",
    "version": 3
   },
   "file_extension": ".py",
   "mimetype": "text/x-python",
   "name": "python",
   "nbconvert_exporter": "python",
   "pygments_lexer": "ipython3",
   "version": "3.6.5"
  }
 },
 "nbformat": 4,
 "nbformat_minor": 2
}
