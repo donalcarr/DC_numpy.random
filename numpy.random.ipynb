{
 "cells": [
  {
   "cell_type": "markdown",
   "metadata": {},
   "source": [
    "# Assignment 2018 - Investigation of the numpy.random package "
   ]
  },
  {
   "cell_type": "markdown",
   "metadata": {},
   "source": [
    "## 1. Explain the overall purpose of the package "
   ]
  },
  {
   "cell_type": "code",
   "execution_count": 9,
   "metadata": {},
   "outputs": [
    {
     "data": {
      "image/jpeg": "[encoded data removed]",
      "text/plain": [
       "<IPython.core.display.Image object>"
      ]
     },
     "execution_count": 9,
     "metadata": {},
     "output_type": "execute_result"
    }
   ],
   "source": [
    "# uses ipython package to embed the image in the notebook so it is visible in GitHub\n",
    "from IPython.display import Image\n",
    "Image(filename=\"Numpy Image.jpeg\")"
   ]
  },
  {
   "cell_type": "markdown",
   "metadata": {},
   "source": [
    "Numpy is a package used for scientific computing within python and the subset package numpy.random is used for generating random numbers."
   ]
  },
  {
   "cell_type": "markdown",
   "metadata": {},
   "source": [
    "The random numbers generated by numpy.random package are not truly random, rather are pseudorandom meaning an algorithm that starts with an inital value (seed) is used for generating the randomness of the numbers. Although not truly random, the degree of randomness is enough for most uses of random numbers. "
   ]
  },
  {
   "cell_type": "markdown",
   "metadata": {},
   "source": [
    "Within the numpy.random package, there are various functions that can generate random numbers according to the user's modelling requirements."
   ]
  },
  {
   "cell_type": "markdown",
   "metadata": {},
   "source": [
    "One example is the numpy.rand function which in its most simple form can generate a random number between 0 and 1."
   ]
  },
  {
   "cell_type": "markdown",
   "metadata": {},
   "source": [
    "Uniform distribution and standard distribution - to do "
   ]
  },
  {
   "cell_type": "markdown",
   "metadata": {},
   "source": [
    " numpy.random The default when you don’t seed the generator \n",
    "is to use your current system time or a “randomness source” from your OS if one is available. --https://realpython.com/python-random/ "
   ]
  },
  {
   "cell_type": "markdown",
   "metadata": {},
   "source": [
    "Generating random numbers is used in variuos real world simulations such as clinical trials for probability testing or\n",
    "computer games and gambling for unpredictability. Other examples of using random numbers are generating passwords and selecting competition winners. "
   ]
  },
  {
   "cell_type": "markdown",
   "metadata": {},
   "source": [
    "To use the numpy.random package it needs to be imported into your chosen python interpreter environment and then an associate function of the package needs to be called as follows:"
   ]
  },
  {
   "cell_type": "code",
   "execution_count": 28,
   "metadata": {},
   "outputs": [],
   "source": [
    "# import numpy package and np for shorthand reference\n",
    "import numpy as np"
   ]
  },
  {
   "cell_type": "markdown",
   "metadata": {},
   "source": [
    "The functions within the package can be divided into three groups:\n",
    "    Simple Random Data,\n",
    "    Permutations, and\n",
    "    Distributions\n",
    "    \n"
   ]
  },
  {
   "cell_type": "markdown",
   "metadata": {},
   "source": [
    "## 2. Explain the use of the Simple random data and Permutations functions"
   ]
  },
  {
   "cell_type": "markdown",
   "metadata": {},
   "source": [
    "### Simple Random Data  "
   ]
  },
  {
   "cell_type": "markdown",
   "metadata": {},
   "source": [
    "Simple Random data is a group of sub funtions within numpy.random used for generation random numbers. Functions such as rand are used to generate random numbers (an array) over the uniform distribution, meaning each value has an equal probality of occurring.\n",
    "\n",
    "The following five functions are examples of Simple random data functions."
   ]
  },
  {
   "cell_type": "markdown",
   "metadata": {},
   "source": [
    "#### numpy.random.rand "
   ]
  },
  {
   "cell_type": "code",
   "execution_count": 2,
   "metadata": {},
   "outputs": [
    {
     "data": {
      "text/plain": [
       "array([0.57194614, 0.50728022, 0.76678565, ..., 0.93965218, 0.60624709,\n",
       "       0.44534589])"
      ]
     },
     "execution_count": 2,
     "metadata": {},
     "output_type": "execute_result"
    }
   ],
   "source": [
    "# call random.rand function\n",
    "x = np.random.rand(5000)\n",
    "x"
   ]
  },
  {
   "cell_type": "code",
   "execution_count": 3,
   "metadata": {},
   "outputs": [
    {
     "data": {
      "text/plain": [
       "<Figure size 640x480 with 1 Axes>"
      ]
     },
     "metadata": {},
     "output_type": "display_data"
    }
   ],
   "source": [
    "# import matplotlib package for visualizations\n",
    "import matplotlib.pyplot as plt\n",
    "plt.hist(x,color = 'xkcd:azure', rwidth = 0.95 )\n",
    "plt.show()"
   ]
  },
  {
   "cell_type": "code",
   "execution_count": 4,
   "metadata": {},
   "outputs": [
    {
     "data": {
      "text/plain": [
       "array([[0.59310893, 0.75637467, 0.41681237, 0.43309273, 0.79885442,\n",
       "        0.04486382, 0.91360196, 0.9575009 , 0.1448415 , 0.93643877]])"
      ]
     },
     "execution_count": 4,
     "metadata": {},
     "output_type": "execute_result"
    }
   ],
   "source": [
    "# create variable x and pass array shape to the rand function i.e 1 array with 1 column 1 row\n",
    "x = np.random.rand(1,10)\n",
    "x"
   ]
  },
  {
   "cell_type": "code",
   "execution_count": 5,
   "metadata": {},
   "outputs": [
    {
     "data": {
      "text/plain": [
       "array([[2.18621787, 2.51274934, 1.83362474, 1.86618546, 2.59770884,\n",
       "        1.08972764, 2.82720392, 2.91500181, 1.28968301, 2.87287753]])"
      ]
     },
     "execution_count": 5,
     "metadata": {},
     "output_type": "execute_result"
    }
   ],
   "source": [
    "# create variable y to create the y axis for the chart - formula will create the linear relationship\n",
    "y = 2 * x + 1\n",
    "y"
   ]
  },
  {
   "cell_type": "code",
   "execution_count": 6,
   "metadata": {},
   "outputs": [
    {
     "data": {
      "image/png": "[encoded data removed]",
      "text/plain": [
       "<Figure size 432x288 with 1 Axes>"
      ]
     },
     "metadata": {},
     "output_type": "display_data"
    }
   ],
   "source": [
    "# plot x and y variable above with red markers\n",
    "plt.plot(x,y,'ro')\n",
    "plt.show()"
   ]
  },
  {
   "cell_type": "markdown",
   "metadata": {},
   "source": [
    "#### numpy.random.randint "
   ]
  },
  {
   "cell_type": "markdown",
   "metadata": {},
   "source": [
    "randint returns random integers from low to high and takes four parameters ((low, high=None, size=None, dtype='l'))"
   ]
  },
  {
   "cell_type": "code",
   "execution_count": 27,
   "metadata": {},
   "outputs": [
    {
     "data": {
      "text/plain": [
       "array([2, 3, 3, 3, 3])"
      ]
     },
     "execution_count": 27,
     "metadata": {},
     "output_type": "execute_result"
    }
   ],
   "source": [
    "# call randint function with explantion after code output\n",
    "np.random.randint(2,4,5,'int')"
   ]
  },
  {
   "cell_type": "markdown",
   "metadata": {},
   "source": [
    "The above code takes the lowest integer 2 and highest integer 4 to be drawn from the distribution and the size/output array is 5 and datatype equals integer "
   ]
  },
  {
   "cell_type": "markdown",
   "metadata": {},
   "source": [
    "The high argument can be left out in which case the lowest integer that can be drawn will defualt to zero"
   ]
  },
  {
   "cell_type": "code",
   "execution_count": 28,
   "metadata": {},
   "outputs": [
    {
     "data": {
      "text/plain": [
       "array([0, 0, 0, 0, 1])"
      ]
     },
     "execution_count": 28,
     "metadata": {},
     "output_type": "execute_result"
    }
   ],
   "source": [
    "# example to show output when high argument is left out\n",
    "np.random.randint(2,size=5)"
   ]
  },
  {
   "cell_type": "markdown",
   "metadata": {},
   "source": [
    "#### numpy.random.choice "
   ]
  },
  {
   "cell_type": "markdown",
   "metadata": {},
   "source": [
    "choice generates a random sample of arguments passed and takes four parameters (a, size=None, replace=True, p=None)"
   ]
  },
  {
   "cell_type": "code",
   "execution_count": 9,
   "metadata": {},
   "outputs": [
    {
     "data": {
      "text/plain": [
       "array([1, 2])"
      ]
     },
     "execution_count": 9,
     "metadata": {},
     "output_type": "execute_result"
    }
   ],
   "source": [
    "# call random.choice and pass in arguments\n",
    "np.random.choice(5,2,replace =False,p=[0.1,0.05,0.7,0.1,0.05])"
   ]
  },
  {
   "cell_type": "markdown",
   "metadata": {},
   "source": [
    "In the above code a is the number of elements, 2 is the size of the array to be returned, replace is false, \n",
    "and p is the probability of each element being randomly chosen.\n",
    "\n",
    "You would expect 2 to be chosen most often as the probability is 0.7 which is much higher than the other elements.\n",
    "\n",
    "As the probability is defined it is a non-uniform distribution i.e. each element does not have the same chance of being chosen"
   ]
  },
  {
   "cell_type": "code",
   "execution_count": 29,
   "metadata": {},
   "outputs": [
    {
     "data": {
      "text/plain": [
       "array(['Colm'], dtype='<U4')"
      ]
     },
     "execution_count": 29,
     "metadata": {},
     "output_type": "execute_result"
    }
   ],
   "source": [
    "# create list of non-integers and use choice to choose random sample, in this case 1 sample \n",
    "Name = ['John', 'Paul','Luke','Colm']\n",
    "np.random.choice(Name,1)"
   ]
  },
  {
   "cell_type": "markdown",
   "metadata": {},
   "source": [
    "The arguments passed do not have to be integers but can be other data types, as above. "
   ]
  },
  {
   "cell_type": "markdown",
   "metadata": {},
   "source": [
    "### Permutations"
   ]
  },
  {
   "cell_type": "markdown",
   "metadata": {},
   "source": [
    "The numpy shuffle and permutations functions are used to 'shuffle' arrays or integers similar to shuffling a deck of cards for randomness. why use one over the other??????????????"
   ]
  },
  {
   "cell_type": "markdown",
   "metadata": {},
   "source": [
    "#### Shuffle "
   ]
  },
  {
   "cell_type": "markdown",
   "metadata": {},
   "source": [
    "The **shuffle() function** can be used to shuffle a list. The shuffle is performed in place, meaning the list/array is passed as  an argument to the shuffle() function and shuffled rather than a shuffled copy of the list being created and returned."
   ]
  },
  {
   "cell_type": "code",
   "execution_count": 11,
   "metadata": {},
   "outputs": [
    {
     "data": {
      "text/plain": [
       "array([0, 1, 2, 3, 4, 5, 6, 7, 8, 9])"
      ]
     },
     "execution_count": 11,
     "metadata": {},
     "output_type": "execute_result"
    }
   ],
   "source": [
    "# use arange to create an array of 10 numbers which starts at zero, not 1\n",
    "x = np.arange(10)\n",
    "x"
   ]
  },
  {
   "cell_type": "code",
   "execution_count": 12,
   "metadata": {},
   "outputs": [
    {
     "data": {
      "text/plain": [
       "array([7, 2, 4, 5, 6, 8, 3, 9, 0, 1])"
      ]
     },
     "execution_count": 12,
     "metadata": {},
     "output_type": "execute_result"
    }
   ],
   "source": [
    "# shuffle the array of numbers created above and return array\n",
    "np.random.shuffle(x)\n",
    "x"
   ]
  },
  {
   "cell_type": "code",
   "execution_count": 30,
   "metadata": {},
   "outputs": [
    {
     "name": "stdout",
     "output_type": "stream",
     "text": [
      "[0, 1, 2, 3, 4, 5, 6, 7, 8, 9, 10, 11, 12, 13, 14, 15, 16, 17, 18, 19]\n",
      "[14, 2, 6, 9, 4, 12, 8, 7, 10, 13, 3, 19, 0, 5, 17, 1, 15, 11, 18, 16]\n"
     ]
    }
   ],
   "source": [
    "# print list created by range, shuffle list and print\n",
    "cards = [i for i in range(20)]\n",
    "print(cards)\n",
    "np.random.shuffle(cards)\n",
    "print(cards)"
   ]
  },
  {
   "cell_type": "markdown",
   "metadata": {},
   "source": [
    "#### Permutations "
   ]
  },
  {
   "cell_type": "markdown",
   "metadata": {},
   "source": [
    "Permutations is different to shuffle as it does not shuffle the array in place rather shuffles a copy of the array. "
   ]
  },
  {
   "cell_type": "code",
   "execution_count": 14,
   "metadata": {},
   "outputs": [
    {
     "data": {
      "text/plain": [
       "array([ 7,  2, 19, 14,  8,  3, 11,  9, 18, 16, 17,  5, 10, 12,  6,  1, 15,\n",
       "        0, 13,  4])"
      ]
     },
     "execution_count": 14,
     "metadata": {},
     "output_type": "execute_result"
    }
   ],
   "source": [
    "# call permutations function and output is shuffled \n",
    "np.random.permutation(20)"
   ]
  },
  {
   "cell_type": "code",
   "execution_count": 15,
   "metadata": {},
   "outputs": [
    {
     "data": {
      "text/plain": [
       "array([6, 3, 1, 5])"
      ]
     },
     "execution_count": 15,
     "metadata": {},
     "output_type": "execute_result"
    }
   ],
   "source": [
    "# shuffle arguments passed\n",
    "np.random.permutation([1,3,5,6])"
   ]
  },
  {
   "cell_type": "markdown",
   "metadata": {},
   "source": [
    "### Distributions "
   ]
  },
  {
   "cell_type": "markdown",
   "metadata": {},
   "source": [
    "\"\"A random variable is a variable that takes on a set of possible values (discrete or continuous) and is subject to randomness. \n",
    "Each possible value the random variable can take on is associated with a probability. \n",
    "The possible values the random variable can take on and the associated probabilities is known as probability distribution.\"\""
   ]
  },
  {
   "cell_type": "markdown",
   "metadata": {},
   "source": [
    "#### numpy.random.uniform(low=0.0, high=1.0, size=None)"
   ]
  },
  {
   "cell_type": "markdown",
   "metadata": {},
   "source": [
    "In the above function values generated will be equal to or greater than the value passed to the low argument and be lower or equal to the value passed to the high argument. The default value is zero for low and 1 for high.\n",
    "\n",
    "The size argument is optional and will be the shape of the values generated i.e. by passing 500 you will see xxxxxxxx\n"
   ]
  },
  {
   "cell_type": "markdown",
   "metadata": {},
   "source": [
    "**Formula**"
   ]
  },
  {
   "cell_type": "code",
   "execution_count": 14,
   "metadata": {},
   "outputs": [
    {
     "data": {
      "image/png": "[encoded data removed]",
      "text/plain": [
       "<IPython.core.display.Image object>"
      ]
     },
     "execution_count": 14,
     "metadata": {},
     "output_type": "execute_result"
    }
   ],
   "source": [
    " Image(filename=\"Uniform.png\")"
   ]
  },
  {
   "cell_type": "code",
   "execution_count": 16,
   "metadata": {},
   "outputs": [
    {
     "data": {
      "image/png": "[encoded data removed]",
      "text/plain": [
       "<Figure size 432x288 with 1 Axes>"
      ]
     },
     "metadata": {},
     "output_type": "display_data"
    }
   ],
   "source": [
    "# call uniform function and pass 1 as the low and 2 as high argument for 10000 random values to be generated between\n",
    "g = np.random.uniform(1,2,10000)\n",
    "\n",
    "import matplotlib.pyplot as plt\n",
    "\n",
    "\n",
    "plt.hist(g, 10, density=True,color = 'b',rwidth = 0.95)\n",
    "plt.title(\"Uniform Distribution Histogram\")\n",
    "plt.xlabel(\"Values\")\n",
    "plt.ylabel(\"Frequency\")\n",
    "plt.show()"
   ]
  },
  {
   "cell_type": "markdown",
   "metadata": {},
   "source": [
    "On the x axis are the values being generated from 1 to 2 and the bars(bins) are spaced in 10 as specified in the above code. On the Y axis is the frequency of values being generated between 1 and 2. In total 10000 random samples were generated between\n",
    "1 and 2 and each value was as likely to be drawn as any other value  \n",
    "\n",
    "Example: between 1.0 and 1.1 in the region of 1000 values were generated and between 1.4 and 1.5 1000 values were generated.  \n",
    "\n"
   ]
  },
  {
   "cell_type": "markdown",
   "metadata": {},
   "source": [
    "Note that uniform function is similar to the **rand function** with the difference being rand will only \n",
    "generate numbers from 0 to 1."
   ]
  },
  {
   "cell_type": "markdown",
   "metadata": {},
   "source": [
    "#### numpy.random.geometric(p, size=None)"
   ]
  },
  {
   "cell_type": "markdown",
   "metadata": {},
   "source": [
    "To use the geometric function a brief explanation of the **Bernoulli trial** is required. A Bernoulli trial is an experiment that has two possible outcomes: success or failure. \n",
    "\n",
    "An example is a coin being tossed; only two possible outcomes the coin falls on head or tails.\n",
    "\n",
    "To use the geometric distribution the trials must be independant and each trial must have the same probability of success.\n",
    "\n",
    "The geometric distribution will model the number of failures before a trial will be successful. "
   ]
  },
  {
   "cell_type": "markdown",
   "metadata": {},
   "source": [
    "**Formula**"
   ]
  },
  {
   "cell_type": "code",
   "execution_count": 16,
   "metadata": {},
   "outputs": [
    {
     "data": {
      "image/png": "[encoded data removed]",
      "text/plain": [
       "<IPython.core.display.Image object>"
      ]
     },
     "execution_count": 16,
     "metadata": {},
     "output_type": "execute_result"
    }
   ],
   "source": [
    "Image(filename=\"Geometric.png\")"
   ]
  },
  {
   "cell_type": "code",
   "execution_count": 31,
   "metadata": {},
   "outputs": [
    {
     "name": "stdout",
     "output_type": "stream",
     "text": [
      "[ 4  1  1  2  2  5  8  1  1  1  3  1  3  4  2  2  1  1  1  1  2  2  6  1\n",
      "  1  1  1  1  2  3  1  1  2 14  5  1  1  3  1  3  3  2  1  3  1  5  2  3\n",
      "  6  2  2  5  3  2  3  3  3  1  2  2  6  2  3  1  2  1  1  3  9  1  3  1\n",
      "  3  1  2  1  1  1  2  1  3  3  2  1  2  3  1  1  3  1  4  4  1  1  1  1\n",
      "  1  1  2  2]\n"
     ]
    },
    {
     "data": {
      "image/png": "[encoded data removed]",
      "text/plain": [
       "<Figure size 432x288 with 1 Axes>"
      ]
     },
     "metadata": {},
     "output_type": "display_data"
    }
   ],
   "source": [
    "# call geometric function and pass . 5 as the probability of success for 100 values drawn\n",
    "x = np.random.geometric(p=.5, size = 100)\n",
    "print(x)\n",
    "plt.plot(x)\n",
    "plt.title('Geometric Distribution')\n",
    "plt.show()"
   ]
  },
  {
   "cell_type": "code",
   "execution_count": 38,
   "metadata": {},
   "outputs": [
    {
     "data": {
      "text/plain": [
       "array([False,  True,  True, False, False, False, False,  True,  True,\n",
       "        True, False,  True, False, False, False, False,  True,  True,\n",
       "        True,  True, False, False, False,  True,  True,  True,  True,\n",
       "        True, False, False,  True,  True, False, False, False,  True,\n",
       "        True, False,  True, False, False, False,  True, False,  True,\n",
       "       False, False, False, False, False, False, False, False, False,\n",
       "       False, False, False,  True, False, False, False, False, False,\n",
       "        True, False,  True,  True, False, False,  True, False,  True,\n",
       "       False,  True, False,  True,  True,  True, False,  True, False,\n",
       "       False, False,  True, False, False,  True,  True, False,  True,\n",
       "       False, False,  True,  True,  True,  True,  True,  True, False,\n",
       "       False])"
      ]
     },
     "execution_count": 38,
     "metadata": {},
     "output_type": "execute_result"
    }
   ],
   "source": [
    "# show if trial is successful denoted by 1(True)\n",
    "(x == 1)"
   ]
  },
  {
   "cell_type": "code",
   "execution_count": 41,
   "metadata": {},
   "outputs": [
    {
     "data": {
      "text/plain": [
       "0.43"
      ]
     },
     "execution_count": 41,
     "metadata": {},
     "output_type": "execute_result"
    }
   ],
   "source": [
    "# sum of trials that were successful after first run\n",
    "(x == 1).sum()/100"
   ]
  },
  {
   "cell_type": "markdown",
   "metadata": {},
   "source": [
    "#### numpy.random.pareto(a, size=None)"
   ]
  },
  {
   "cell_type": "markdown",
   "metadata": {},
   "source": [
    "The **Pareto distribution** was created by Italian economist Vilfredo Pareto and was often described as the 80/20 rule e.g. \n",
    "80% of the wealth is belong to 20% of the population. \n",
    "\n",
    "The function is usually applied when data is known to be unevenly distributed and can be applied to many real world situations\n",
    "e.g. 90% of a businesse's turnover is from 10% of their clients. "
   ]
  },
  {
   "cell_type": "markdown",
   "metadata": {},
   "source": [
    "**Formula**"
   ]
  },
  {
   "cell_type": "code",
   "execution_count": 18,
   "metadata": {},
   "outputs": [
    {
     "data": {
      "image/png": "[encoded data removed]",
      "text/plain": [
       "<IPython.core.display.Image object>"
      ]
     },
     "execution_count": 18,
     "metadata": {},
     "output_type": "execute_result"
    }
   ],
   "source": [
    "Image(filename=\"Pareto.png\")"
   ]
  },
  {
   "cell_type": "code",
   "execution_count": 18,
   "metadata": {},
   "outputs": [
    {
     "name": "stdout",
     "output_type": "stream",
     "text": [
      "[ 3.89141121  3.46789497  3.33681984  3.47195378  3.0924498   3.28344894\n",
      "  3.60075143  3.56200878  3.13580744  3.50730735  3.17692741  5.27801031\n",
      "  4.21064529  3.02112519  3.65622915  5.00829247  4.54887916  3.01471878\n",
      "  3.0239045   6.09008599  3.80513121  3.38047748  3.06303827  5.02685254\n",
      "  4.04014123  3.5084697   3.03292276  4.344246    4.12235443  3.38463967\n",
      "  3.6148947   3.0174671   3.2382211   3.60466018  3.56107568 15.14751204\n",
      "  3.13748073  4.49341055  3.11083831  3.46155747  4.13225441  3.88094377\n",
      "  3.28069189  3.01552302  3.47452292  7.34474644  3.24144109  4.6458409\n",
      "  3.58188942  4.58332822  5.03160539  4.26839063  4.85772181  3.63140498\n",
      "  3.8735187   3.04061698  4.53506701  3.59244477  3.81017401  3.73731168\n",
      "  3.10664785  3.76233061  3.44493759  3.31934634  3.0768445   3.43212353\n",
      "  4.98312019  3.41328665  3.02685498  9.26904108  3.86420845  3.68429096\n",
      "  3.14695382  3.59277447  6.22532253  4.16762221  4.28680716  4.46107218\n",
      "  3.00253501  3.93781045  3.68699815  3.41747118  3.82130106  3.82611706\n",
      "  4.0043521   3.72939515  3.55035506  3.42990281  4.67056286  3.26861582\n",
      "  3.72845157  3.14836265  3.42210685 11.714447    5.32979924  3.60789791\n",
      "  3.18524663  3.24333183  3.80218888  3.53961023]\n"
     ]
    }
   ],
   "source": [
    "## a is the shape parameter and m is the lower bound of the distribution\n",
    "a, m = 4.,3.\n",
    "s = (np.random.pareto(a, 100) + 1) * m\n",
    "print(s)"
   ]
  },
  {
   "cell_type": "code",
   "execution_count": 19,
   "metadata": {},
   "outputs": [
    {
     "data": {
      "image/png": "[encoded data removed]",
      "text/plain": [
       "<Figure size 432x288 with 1 Axes>"
      ]
     },
     "metadata": {},
     "output_type": "display_data"
    }
   ],
   "source": [
    "# plot histogram with the values generated by pareto function (s) with 10 bins and lightblue color\n",
    "count, bins, _ = plt.hist(s, 10, density=True,color = 'Lightblue')\n",
    "# formula for the line\n",
    "fit = a*m**a / bins**(a+1)\n",
    "plt.plot(bins, max(count)*fit/max(fit), linewidth=2, color='r')\n",
    "plt.title('Pareto Chart')\n",
    "plt.show()"
   ]
  },
  {
   "cell_type": "markdown",
   "metadata": {},
   "source": [
    "In the above Pareto chart the majority values generated fall between 3 and 4 as displayed by the blue bins. \n",
    "\n",
    "The red line indicates the values from lowest value 3 (m) to highest random number generated. "
   ]
  },
  {
   "cell_type": "markdown",
   "metadata": {},
   "source": [
    "#### numpy.random.poisson(lam=1.0, size=None)"
   ]
  },
  {
   "cell_type": "markdown",
   "metadata": {},
   "source": [
    "\"The **Poisson distribution** was first introduced by Siméon Denis Poisson (1781–1840) and published, together with his probability theory, \n",
    "in 1837 in his work Recherches sur la probabilité des jugements en matière criminelle et en matière civile \n",
    "(\"Research on the Probability of Judgments in Criminal and Civil Matters\").\"\n",
    "\n",
    "A Poisson distribution helps to predict the probability of certain events from happening when you know \n",
    "how often the event has occurred. \n",
    "It gives us the probability of a given number of events happening in a fixed interval of time.\n",
    "\n",
    "Conditions for Poisson Distribution:\n",
    "\n",
    "An event can occur any number of times during a time period.\n",
    "\n",
    "Events occur independently. In other words, if an event occurs, it does not affect the probability of another event occurring in the same time period.\n",
    "\n",
    "The rate of occurrence is constant; that is, the rate does not change based on time.\n",
    "\n",
    "The probability of an event occurring is proportional to the length of the time period. \n",
    "\n",
    "\n"
   ]
  },
  {
   "cell_type": "markdown",
   "metadata": {},
   "source": [
    "**Formula**"
   ]
  },
  {
   "cell_type": "code",
   "execution_count": 20,
   "metadata": {},
   "outputs": [
    {
     "data": {
      "image/png": "[encoded data removed]",
      "text/plain": [
       "<IPython.core.display.Image object>"
      ]
     },
     "execution_count": 20,
     "metadata": {},
     "output_type": "execute_result"
    }
   ],
   "source": [
    "Image(filename=\"Poisson.png\")"
   ]
  },
  {
   "cell_type": "code",
   "execution_count": 20,
   "metadata": {},
   "outputs": [],
   "source": [
    "# call poisson function with the rate of occurance as the parameter (2) and passing 10000 samples\n",
    "x = np.random.poisson(2,10000)"
   ]
  },
  {
   "cell_type": "code",
   "execution_count": 21,
   "metadata": {},
   "outputs": [],
   "source": [
    "import matplotlib.pyplot as plt"
   ]
  },
  {
   "cell_type": "code",
   "execution_count": 22,
   "metadata": {},
   "outputs": [
    {
     "data": {
      "image/png": "[encoded data removed]",
      "text/plain": [
       "<Figure size 432x288 with 1 Axes>"
      ]
     },
     "metadata": {},
     "output_type": "display_data"
    }
   ],
   "source": [
    "plt.hist(x,bins = 5,density=False, rwidth = 0.95,color = 'Aqua')\n",
    "\n",
    "plt.title('Poisson Distribution')\n",
    "plt.xlabel('Rate')\n",
    "plt.ylabel('Frequency')\n",
    "plt.show()"
   ]
  },
  {
   "cell_type": "markdown",
   "metadata": {},
   "source": [
    "As you would expect the frequency of events is highest around the average time it takes for an event to occur = 2. This could be used to model the number of calls a call centre expects to receive within a time unit of 2."
   ]
  },
  {
   "cell_type": "markdown",
   "metadata": {},
   "source": [
    "#### numpy.random.triangular(left, mode, right, size=None)"
   ]
  },
  {
   "cell_type": "markdown",
   "metadata": {},
   "source": [
    "The **triangual distribution** is used when you know the minimum, maximum and most likely values to occur. This would be possible\n",
    "through some historical analysis of the data you interested in modelling. \n",
    "\n",
    "The minimum and maximum values most be fixed. "
   ]
  },
  {
   "cell_type": "markdown",
   "metadata": {},
   "source": [
    "Parameters: Left is the minimum value, mode is the most likely value, right is the maximum value \n",
    "            and size is the number of samples drawn"
   ]
  },
  {
   "cell_type": "markdown",
   "metadata": {},
   "source": [
    "**Formula**"
   ]
  },
  {
   "cell_type": "code",
   "execution_count": 21,
   "metadata": {},
   "outputs": [
    {
     "data": {
      "image/png": "[encoded data removed]",
      "text/plain": [
       "<IPython.core.display.Image object>"
      ]
     },
     "execution_count": 21,
     "metadata": {},
     "output_type": "execute_result"
    }
   ],
   "source": [
    "Image(filename=\"Triangular.png\")"
   ]
  },
  {
   "cell_type": "code",
   "execution_count": 29,
   "metadata": {},
   "outputs": [],
   "source": [
    "## call triangular function and pass parameters 2 for low, 4 most likely, 10 maximum and 100000 samples drawn\n",
    "x = np.random.triangular(2, 4, 10, 100000)"
   ]
  },
  {
   "cell_type": "code",
   "execution_count": 24,
   "metadata": {},
   "outputs": [
    {
     "data": {
      "text/plain": [
       "Text(0,0.5,'Probability')"
      ]
     },
     "execution_count": 24,
     "metadata": {},
     "output_type": "execute_result"
    },
    {
     "data": {
      "image/png": "[encoded data removed]",
      "text/plain": [
       "<Figure size 432x288 with 1 Axes>"
      ]
     },
     "metadata": {},
     "output_type": "display_data"
    }
   ],
   "source": [
    "## plot histogram with 100 bins, use color scheme xkcd and put space between bars\n",
    "plt.hist(x,bins = 100,density=True,color = 'xkcd:salmon',rwidth = 0.95)\n",
    "plt.title('Triangular Distribution')\n",
    "plt.xlabel('Values; Min 2,Max 10')\n",
    "plt.ylabel('Probability')"
   ]
  },
  {
   "cell_type": "markdown",
   "metadata": {},
   "source": [
    "This distribution could be used for modelling and visualizing sales of computers from week to week \n",
    "with minumum being 2 and maximum being 10. It could also\n",
    "to be used to model the probability that sales will be less or greater than the most likely\n",
    "value i.e. 5."
   ]
  },
  {
   "cell_type": "markdown",
   "metadata": {},
   "source": [
    "#### numpy.random.binomial(n, p, size=None)"
   ]
  },
  {
   "cell_type": "markdown",
   "metadata": {},
   "source": [
    "The binomial distribution describes the number of times a particular event occurs in a fixed number of trials, \n",
    "such as the number of heads in 10 flips of a coin\n",
    "The three conditions underlying the binomial distribution are:\n",
    "1. For each trial, only two outcomes are possible that are mutually exclusive.\n",
    "2. The trials are independent—what happens in the first trial does not affect the\n",
    "next trial.\n",
    "3. The probability of an event occurring remains the same from trial to trial."
   ]
  },
  {
   "cell_type": "markdown",
   "metadata": {},
   "source": [
    "Parameters: n is the number of trials, p is the probability of success and size equals number of samples drawn"
   ]
  },
  {
   "cell_type": "markdown",
   "metadata": {},
   "source": [
    "**Formula**"
   ]
  },
  {
   "cell_type": "code",
   "execution_count": 26,
   "metadata": {},
   "outputs": [
    {
     "data": {
      "image/png": "[encoded data removed]",
      "text/plain": [
       "<IPython.core.display.Image object>"
      ]
     },
     "execution_count": 26,
     "metadata": {},
     "output_type": "execute_result"
    }
   ],
   "source": [
    "Image(filename=\"Binomial.png\")"
   ]
  },
  {
   "cell_type": "code",
   "execution_count": 25,
   "metadata": {},
   "outputs": [
    {
     "data": {
      "text/plain": [
       "(array([0.00173913, 0.00391304, 0.01608696, 0.05608696, 0.07391304,\n",
       "        0.08782609, 0.1226087 , 0.04565217, 0.02086957, 0.00608696]),\n",
       " array([29. , 31.3, 33.6, 35.9, 38.2, 40.5, 42.8, 45.1, 47.4, 49.7, 52. ]),\n",
       " <a list of 10 Patch objects>)"
      ]
     },
     "execution_count": 25,
     "metadata": {},
     "output_type": "execute_result"
    },
    {
     "data": {
      "image/png": "[encoded data removed]",
      "text/plain": [
       "<Figure size 432x288 with 1 Axes>"
      ]
     },
     "metadata": {},
     "output_type": "display_data"
    }
   ],
   "source": [
    "## plot histgram with binomial function passing 60 as number of trials, .7 as probability and 1000 samples drawn\n",
    "plt.hist(x = np.random.binomial(60, .7, 1000),color = 'xkcd:red',density=True,rwidth = 0.95)"
   ]
  },
  {
   "cell_type": "code",
   "execution_count": 26,
   "metadata": {},
   "outputs": [
    {
     "data": {
      "text/plain": [
       "0.0"
      ]
     },
     "execution_count": 26,
     "metadata": {},
     "output_type": "execute_result"
    }
   ],
   "source": [
    "## illustrates probality of success being zero\n",
    "sum(np.random.binomial(60, .7, 1000) == 0)/1000"
   ]
  },
  {
   "cell_type": "markdown",
   "metadata": {},
   "source": [
    "To understand the above code if Manchester United played 60 matches and the probability of success was 70% regardless of the opposition, the probability that they would win zero matches is zero. "
   ]
  },
  {
   "cell_type": "markdown",
   "metadata": {},
   "source": [
    "## Use of seeds in generating pseudorandom numbers"
   ]
  },
  {
   "cell_type": "code",
   "execution_count": null,
   "metadata": {},
   "outputs": [],
   "source": []
  },
  {
   "cell_type": "code",
   "execution_count": null,
   "metadata": {},
   "outputs": [],
   "source": []
  }
 ],
 "metadata": {
  "celltoolbar": "Raw Cell Format",
  "kernelspec": {
   "display_name": "Python 3",
   "language": "python",
   "name": "python3"
  },
  "language_info": {
   "codemirror_mode": {
    "name": "ipython",
    "version": 3
   },
   "file_extension": ".py",
   "mimetype": "text/x-python",
   "name": "python",
   "nbconvert_exporter": "python",
   "pygments_lexer": "ipython3",
   "version": "3.6.5"
  }
 },
 "nbformat": 4,
 "nbformat_minor": 2
}
