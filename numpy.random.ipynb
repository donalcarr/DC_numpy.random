{
 "cells": [
  {
   "cell_type": "markdown",
   "metadata": {},
   "source": [
    "# Assignment 2018 - Investigation of the numpy.random package "
   ]
  },
  {
   "cell_type": "markdown",
   "metadata": {},
   "source": [
    "## 1. Explain the overall purpose of the package "
   ]
  },
  {
   "attachments": {
    "Numpy%20Image.jpeg": {
     "image/jpeg": "[encoded data removed]"
    }
   },
   "cell_type": "markdown",
   "metadata": {},
   "source": [
    "![Numpy%20Image.jpeg](attachment:Numpy%20Image.jpeg) "
   ]
  },
  {
   "cell_type": "markdown",
   "metadata": {},
   "source": [
    "Numpy is a package used for scientific computing within python and the subset package numpy.random is used for generating random numbers."
   ]
  },
  {
   "cell_type": "markdown",
   "metadata": {},
   "source": [
    "The random numbers generated by numpy.random package are not truly random, rather are pseudorandom meaning an algorithm that starts with an inital value (seed) is used for generating the randomness of the numbers. Although not truly random, the degree of randomness is enough for most uses of random numbers. "
   ]
  },
  {
   "cell_type": "markdown",
   "metadata": {},
   "source": [
    "Within the numpy.random package, there are various functions that can generate random numbers according to the users specific requirements."
   ]
  },
  {
   "cell_type": "markdown",
   "metadata": {},
   "source": [
    "One example is the numpy.rand function which in its most simple form can generate a random number between 0 and 1."
   ]
  },
  {
   "cell_type": "markdown",
   "metadata": {},
   "source": [
    "Uniform distribution and standard distribution - to do "
   ]
  },
  {
   "cell_type": "markdown",
   "metadata": {},
   "source": [
    "To use the numpy.random package it needs to be imported into your chosen python interpreter environment and then an associate function of the package needs to be called as follows:"
   ]
  },
  {
   "cell_type": "code",
   "execution_count": 1,
   "metadata": {},
   "outputs": [],
   "source": [
    "import numpy as np"
   ]
  },
  {
   "cell_type": "markdown",
   "metadata": {},
   "source": [
    "Generating random numbers is used in variuos real world simulations from science to the gambling world."
   ]
  },
  {
   "cell_type": "markdown",
   "metadata": {},
   "source": [
    "The functions within the package can be divided into three groups:\n",
    "    Simple Random Data,\n",
    "    Permutations, and\n",
    "    Distributions\n",
    "    \n"
   ]
  },
  {
   "cell_type": "markdown",
   "metadata": {},
   "source": [
    "## 2. Explain the use of the Simple random data and Permutations functions"
   ]
  },
  {
   "cell_type": "markdown",
   "metadata": {},
   "source": [
    "### Simple Random Data  "
   ]
  },
  {
   "cell_type": "markdown",
   "metadata": {},
   "source": [
    "Simple Random data is a group of sub funtions within numpy.random used for generation random numbers. Functions such as rand are used to generate random numbers (an array) over the uniform distribution, meaning each value has an equal probality of occurring.\n",
    "The following five functions are examples of Simple random data functions."
   ]
  },
  {
   "cell_type": "markdown",
   "metadata": {},
   "source": [
    "#### numpy.random.rand "
   ]
  },
  {
   "cell_type": "code",
   "execution_count": 14,
   "metadata": {},
   "outputs": [
    {
     "data": {
      "text/plain": [
       "array([0.09625914, 0.27007444, 0.95967437, ..., 0.67596774, 0.66328616,\n",
       "       0.42892689])"
      ]
     },
     "execution_count": 14,
     "metadata": {},
     "output_type": "execute_result"
    }
   ],
   "source": [
    "x = np.random.rand(5000)\n",
    "x"
   ]
  },
  {
   "cell_type": "code",
   "execution_count": 15,
   "metadata": {},
   "outputs": [
    {
     "data": {
      "image/png": "[encoded data removed]",
      "text/plain": [
       "<Figure size 432x288 with 1 Axes>"
      ]
     },
     "metadata": {},
     "output_type": "display_data"
    }
   ],
   "source": [
    "import matplotlib.pyplot as plt\n",
    "plt.hist(x)\n",
    "plt.show()"
   ]
  },
  {
   "cell_type": "code",
   "execution_count": 24,
   "metadata": {},
   "outputs": [
    {
     "data": {
      "text/plain": [
       "array([[0.3430049 , 0.61457797, 0.09452276, 0.48102841, 0.08371116,\n",
       "        0.08401961, 0.09165774, 0.58762366, 0.59567977, 0.85660471]])"
      ]
     },
     "execution_count": 24,
     "metadata": {},
     "output_type": "execute_result"
    }
   ],
   "source": [
    "x = np.random.rand(1,10)\n",
    "x"
   ]
  },
  {
   "cell_type": "code",
   "execution_count": 33,
   "metadata": {},
   "outputs": [
    {
     "data": {
      "text/plain": [
       "array([[1.68600981, 2.22915594, 1.18904553, 1.96205682, 1.16742232,\n",
       "        1.16803923, 1.18331548, 2.17524732, 2.19135953, 2.71320942]])"
      ]
     },
     "execution_count": 33,
     "metadata": {},
     "output_type": "execute_result"
    }
   ],
   "source": [
    "y = 2 * x + 1\n",
    "y"
   ]
  },
  {
   "cell_type": "code",
   "execution_count": 45,
   "metadata": {},
   "outputs": [
    {
     "data": {
      "image/png": "[encoded data removed]",
      "text/plain": [
       "<Figure size 432x288 with 1 Axes>"
      ]
     },
     "metadata": {},
     "output_type": "display_data"
    }
   ],
   "source": [
    "plt.plot(x,y,'ro')\n",
    "plt.show()"
   ]
  },
  {
   "cell_type": "markdown",
   "metadata": {},
   "source": [
    "#### numpy.random.randint "
   ]
  },
  {
   "cell_type": "markdown",
   "metadata": {},
   "source": [
    "randint returns random integers from low to high and takes four parameters ((low, high=None, size=None, dtype='l'))"
   ]
  },
  {
   "cell_type": "code",
   "execution_count": 20,
   "metadata": {},
   "outputs": [
    {
     "data": {
      "text/plain": [
       "array([3, 3, 3, 2, 3])"
      ]
     },
     "execution_count": 20,
     "metadata": {},
     "output_type": "execute_result"
    }
   ],
   "source": [
    "np.random.randint(2,4,5,'int')"
   ]
  },
  {
   "cell_type": "markdown",
   "metadata": {},
   "source": [
    "The above code takes the lowest integer 2 and highest integer 4 to be drawn from the distribution and the size/output array is 5 and datatype equals integer "
   ]
  },
  {
   "cell_type": "markdown",
   "metadata": {},
   "source": [
    "The high argument can be left out in which case the lowest integer that can be drawn will defualt to zero"
   ]
  },
  {
   "cell_type": "code",
   "execution_count": 23,
   "metadata": {},
   "outputs": [
    {
     "data": {
      "text/plain": [
       "array([0, 0, 1, 0, 0])"
      ]
     },
     "execution_count": 23,
     "metadata": {},
     "output_type": "execute_result"
    }
   ],
   "source": [
    "np.random.randint(2,size=5)"
   ]
  },
  {
   "cell_type": "markdown",
   "metadata": {},
   "source": [
    "#### numpy.random.choice "
   ]
  },
  {
   "cell_type": "markdown",
   "metadata": {},
   "source": [
    "choice generates a random sample of arguments passed and takes four parameters (a, size=None, replace=True, p=None)"
   ]
  },
  {
   "cell_type": "code",
   "execution_count": 43,
   "metadata": {},
   "outputs": [
    {
     "data": {
      "text/plain": [
       "array([2, 1])"
      ]
     },
     "execution_count": 43,
     "metadata": {},
     "output_type": "execute_result"
    }
   ],
   "source": [
    "np.random.choice(5,2,replace =False,p=[0.1,0.05,0.7,0.1,0.05])"
   ]
  },
  {
   "cell_type": "markdown",
   "metadata": {},
   "source": [
    "In the above code a is the number of elements, 2 is the size of the array to be returned, replace is false, \n",
    "and p is the probability of each elemnet being randomly chosen.\n",
    "\n",
    "You would expect 2 to be chosen most often as the probability is 0.7 which is much higher than the other elements.\n",
    "\n",
    "As probability is defined it is a non-unifirm distribution i.e. each element does not have the same chance of being chosen"
   ]
  },
  {
   "cell_type": "code",
   "execution_count": 51,
   "metadata": {},
   "outputs": [
    {
     "data": {
      "text/plain": [
       "array(['Colm'], dtype='<U4')"
      ]
     },
     "execution_count": 51,
     "metadata": {},
     "output_type": "execute_result"
    }
   ],
   "source": [
    "Name = ['John', 'Paul','Luke','Colm']\n",
    "np.random.choice(Name,1)"
   ]
  },
  {
   "cell_type": "markdown",
   "metadata": {},
   "source": [
    "The arguments passed do not have to be integers but can be other data types, as above. "
   ]
  },
  {
   "cell_type": "markdown",
   "metadata": {},
   "source": [
    "### Permutations"
   ]
  },
  {
   "cell_type": "markdown",
   "metadata": {},
   "source": [
    "The numpy shuffle and permutations functions are used to 'shuffle' arrays or integers similar to shuffling a deck of cards for randomness. "
   ]
  },
  {
   "cell_type": "markdown",
   "metadata": {},
   "source": [
    "#### Shuffle "
   ]
  },
  {
   "cell_type": "markdown",
   "metadata": {},
   "source": [
    "The **shuffle() function** can be used to shuffle a list. The shuffle is performed in place, meaning that the list provided as an argument to the shuffle() function is shuffled rather than a shuffled copy of the list being made and returned."
   ]
  },
  {
   "cell_type": "code",
   "execution_count": 6,
   "metadata": {},
   "outputs": [
    {
     "data": {
      "text/plain": [
       "array([0, 1, 2, 3, 4, 5, 6, 7, 8, 9])"
      ]
     },
     "execution_count": 6,
     "metadata": {},
     "output_type": "execute_result"
    }
   ],
   "source": [
    "x = np.arange(10)\n",
    "x"
   ]
  },
  {
   "cell_type": "code",
   "execution_count": 10,
   "metadata": {},
   "outputs": [
    {
     "data": {
      "text/plain": [
       "array([9, 1, 6, 4, 0, 3, 2, 8, 7, 5])"
      ]
     },
     "execution_count": 10,
     "metadata": {},
     "output_type": "execute_result"
    }
   ],
   "source": [
    "np.random.shuffle(x)\n",
    "x"
   ]
  },
  {
   "cell_type": "code",
   "execution_count": 25,
   "metadata": {},
   "outputs": [
    {
     "name": "stdout",
     "output_type": "stream",
     "text": [
      "[0, 1, 2, 3, 4, 5, 6, 7, 8, 9, 10, 11, 12, 13, 14, 15, 16, 17, 18, 19]\n",
      "[8, 14, 5, 13, 10, 0, 9, 18, 15, 2, 19, 11, 3, 1, 4, 6, 12, 7, 17, 16]\n"
     ]
    }
   ],
   "source": [
    "cards = [i for i in range(20)]\n",
    "print(cards)\n",
    "np.random.shuffle(cards)\n",
    "print(cards)"
   ]
  },
  {
   "cell_type": "markdown",
   "metadata": {},
   "source": [
    "#### Permutations "
   ]
  },
  {
   "cell_type": "markdown",
   "metadata": {},
   "source": [
    "Permutations is different to shuffle as it does not shuffle the array in place rather shuffles a copy of the array. "
   ]
  },
  {
   "cell_type": "code",
   "execution_count": 4,
   "metadata": {},
   "outputs": [
    {
     "data": {
      "text/plain": [
       "array([12, 17,  2, 15,  8, 13,  4,  6, 10,  7,  0, 11,  5,  9, 18, 14, 16,\n",
       "        1,  3, 19])"
      ]
     },
     "execution_count": 4,
     "metadata": {},
     "output_type": "execute_result"
    }
   ],
   "source": [
    "np.random.permutation(20)"
   ]
  },
  {
   "cell_type": "code",
   "execution_count": 2,
   "metadata": {},
   "outputs": [
    {
     "data": {
      "text/plain": [
       "array([3, 6, 5, 1])"
      ]
     },
     "execution_count": 2,
     "metadata": {},
     "output_type": "execute_result"
    }
   ],
   "source": [
    "np.random.permutation([1,3,5,6])"
   ]
  },
  {
   "cell_type": "markdown",
   "metadata": {},
   "source": [
    "### Distributions "
   ]
  },
  {
   "cell_type": "markdown",
   "metadata": {},
   "source": [
    "\"\"A random variable is a variable that takes on a set of possible values (discrete or continuous) and is subject to randomness. \n",
    "Each possible value the random variable can take on is associated with a probability. \n",
    "The possible values the random variable can take on and the associated probabilities is known as probability distribution.\"\""
   ]
  },
  {
   "cell_type": "markdown",
   "metadata": {},
   "source": [
    "#### numpy.random.uniform(low=0.0, high=1.0, size=None)"
   ]
  },
  {
   "cell_type": "markdown",
   "metadata": {},
   "source": [
    "In the above function values generated will be equal to or greater than the value passed to the low argument and be lower or equal to the value passed to the high argument. The default value is zero for low and 1 for high.\n",
    "\n",
    "The size argument is optional and will be the shape of the values generated i.e. by passing 500 you will see xxxxxxxx\n"
   ]
  },
  {
   "cell_type": "code",
   "execution_count": 31,
   "metadata": {},
   "outputs": [
    {
     "data": {
      "image/png": "[encoded data removed]",
      "text/plain": [
       "<Figure size 432x288 with 1 Axes>"
      ]
     },
     "metadata": {},
     "output_type": "display_data"
    }
   ],
   "source": [
    "g = np.random.uniform(1,2,10000)\n",
    "\n",
    "import matplotlib.pyplot as plt\n",
    "plt.hist(g, 10, density=True,color = 'b',rwidth = 0.95)\n",
    "plt.title(\"Uniform Distribution Histogram\")\n",
    "plt.xlabel(\"Values\")\n",
    "plt.ylabel(\"Frequency\")\n",
    "plt.show()"
   ]
  },
  {
   "cell_type": "markdown",
   "metadata": {},
   "source": [
    "On the x axis are the values being generated from 1 to 2 and the bars(bins) are spaced in 10 as specified in the above code. On the Y axis is the frequency of values being generated between 1 and 2. In total 10000 values were generated between\n",
    "1 and 2 and each value had the probability of being generated equally as often as any other value.  \n",
    "\n",
    "Example: between 1.0 and 1.1 in the region of 1000 values were generated and between 1.4 and 1.5 1000 values were generated.  \n",
    "\n"
   ]
  },
  {
   "cell_type": "markdown",
   "metadata": {},
   "source": [
    "Note that uniform function is similar to the **rand function** with the difference being rand will only \n",
    "generate numbers from 0 to 1 where uniform you can use any interval e.g. 1,200"
   ]
  },
  {
   "cell_type": "markdown",
   "metadata": {},
   "source": [
    "#### numpy.random.geometric(p, size=None)"
   ]
  },
  {
   "cell_type": "markdown",
   "metadata": {},
   "source": [
    "To use the geometric function a brief explanation of the **Bernoulli trial**. A Bernoulli trial is an experiment that has two\n",
    "possible outcomes: success or failure. An example is a coin being tossed; only two possible outcomes head or tails.\n",
    "\n",
    "To use the geometric distribution the trials must be independant and each trial must have the same probability of success.\n",
    "\n",
    "So the geometric distribution will model the number of failures before a trial will be successful. "
   ]
  },
  {
   "cell_type": "code",
   "execution_count": 93,
   "metadata": {},
   "outputs": [
    {
     "name": "stdout",
     "output_type": "stream",
     "text": [
      "[6 4 2 2 1 1 1 1 1 2 1 1 3 1 4 2 2 1 1 1 1 2 4 5 5 2 2 2 1 1 1 1 8 1 2 1 2\n",
      " 1 1 1 1 3 3 1 1 4 1 4 2 1 1 3 1 2 2 3 1 3 1 4 1 2 1 1 1 3 1 1 1 2 1 2 1 1\n",
      " 2 1 1 2 1 1 1 1 1 1 1 1 2 1 3 1 2 1 2 1 1 1 1 1 1 2]\n"
     ]
    },
    {
     "data": {
      "image/png": "[encoded data removed]",
      "text/plain": [
       "<Figure size 432x288 with 1 Axes>"
      ]
     },
     "metadata": {},
     "output_type": "display_data"
    }
   ],
   "source": [
    "x = np.random.geometric(p=.5, size = 100)\n",
    "print(x)\n",
    "plt.plot(x)\n",
    "plt.title('Geometric Distribution')\n",
    "plt.show()"
   ]
  },
  {
   "cell_type": "markdown",
   "metadata": {},
   "source": [
    "#### numpy.random.pareto(a, size=None)"
   ]
  },
  {
   "cell_type": "markdown",
   "metadata": {},
   "source": [
    "The **Pareto distribution** was created by Italian economist Vilfredo Pareto and was often described as the 80/20 rule e.g. \n",
    "80% of the wealth is belong to 20% of the population. \n",
    "\n",
    "The function is usually applied when data is known to unevenly distributed and can be applied to many real world situations\n",
    "e.g. 90% of a businesse's turnover is from 10% of their clients. "
   ]
  },
  {
   "cell_type": "code",
   "execution_count": 159,
   "metadata": {},
   "outputs": [
    {
     "name": "stdout",
     "output_type": "stream",
     "text": [
      "[ 4.05671941  4.64616906  4.06265397  4.44480124  3.17247663  3.57135233\n",
      "  3.0719454   3.17107526  3.10324384  3.79142356  3.78817803  4.06608856\n",
      "  3.78109926  3.22971113  3.05530782  3.39793196  4.16451172  3.29953915\n",
      "  3.62280118  5.21253358  4.97824153  3.1932883   4.23306035  3.09244255\n",
      " 10.32882814  4.57829902  3.68436286  3.19524772  3.32333721  4.69760268\n",
      "  4.0332822   3.36972455  3.0791441   3.25902155  3.25232198  9.83819986\n",
      "  6.19734435  4.71777783  3.50810579  3.76656148  3.4025168   3.97522435\n",
      "  3.1114046   3.20654215  3.24074907  3.02612068  3.96606892  3.1148502\n",
      "  7.37359172  7.66898842  3.01405077  6.34299441  3.91958032  4.07902958\n",
      "  3.18622542  3.12699768  3.85370251  3.24820072  3.16009788  3.14126656\n",
      "  3.06237167  3.0378559   3.16129261  3.5406699   3.37156445  4.13881925\n",
      "  3.23304323  4.3373078   3.39155338  4.05003853  3.5026351   3.41414064\n",
      "  3.05954822  3.05531069  3.76851967  3.05810095  5.52535533  3.23757283\n",
      "  3.11402747  3.82830252  3.22890292  3.76444251  3.36739876  3.5093812\n",
      "  4.96387362  3.75503838  3.97192804  3.2299637   3.91321176  3.88758025\n",
      "  4.17458234  3.31234348  3.12755163  3.87254231  5.6218957   4.60836902\n",
      "  6.38670088  3.11872146  3.06486648  3.54914415]\n"
     ]
    }
   ],
   "source": [
    "a, m = 4.,3.\n",
    "s = (np.random.pareto(a, 100) + 1) * m\n",
    "print(s)"
   ]
  },
  {
   "cell_type": "code",
   "execution_count": 161,
   "metadata": {},
   "outputs": [
    {
     "data": {
      "image/png": "[encoded data removed]",
      "text/plain": [
       "<Figure size 432x288 with 1 Axes>"
      ]
     },
     "metadata": {},
     "output_type": "display_data"
    }
   ],
   "source": [
    "count, bins, _ = plt.hist(s, 10, density=True)\n",
    "fit = a*m**a / bins**(a+1)\n",
    "plt.plot(bins, max(count)*fit/max(fit), linewidth=2, color='r')\n",
    "plt.title('Pareto Chart')\n",
    "plt.show()"
   ]
  },
  {
   "cell_type": "code",
   "execution_count": null,
   "metadata": {},
   "outputs": [],
   "source": [
    "In the above Pareto chart the majority values generated fall between 3 AND 4 as displayed by the blue bins. \n",
    "\n",
    "The red line indicates the values from lowest value 3 (m) to highest random number generated. "
   ]
  }
 ],
 "metadata": {
  "kernelspec": {
   "display_name": "Python 3",
   "language": "python",
   "name": "python3"
  },
  "language_info": {
   "codemirror_mode": {
    "name": "ipython",
    "version": 3
   },
   "file_extension": ".py",
   "mimetype": "text/x-python",
   "name": "python",
   "nbconvert_exporter": "python",
   "pygments_lexer": "ipython3",
   "version": "3.6.5"
  }
 },
 "nbformat": 4,
 "nbformat_minor": 2
}
